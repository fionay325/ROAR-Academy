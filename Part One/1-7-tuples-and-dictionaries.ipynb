{
 "cells": [
  {
   "cell_type": "markdown",
   "metadata": {},
   "source": [
    "**Learning Python -- The Programming Language for Artificial Intelligence and Data Science**\n",
    "\n",
    "**Lecture 7: Tuples and Dictionaries**\n",
    "\n",
    "**By Allen Y. Yang, PhD**\n",
    "\n",
    "(c) Copyright Intelligent Racing Inc., 2021-2024. All rights reserved. Materials may NOT be distributed or used for any commercial purposes.\n"
   ]
  },
  {
   "cell_type": "markdown",
   "metadata": {},
   "source": [
    "# Keywords\n",
    "\n",
    "* **tuple**: Keyword for the tuple data type in Python. Tuple is an immutable type.\n",
    "* **dict**: Keyword for the dictionary data type in Python. Dictionary is a mutable type. Each element in a dictionary is a (key, value) pair.\n",
    "* **Histogram**: A data structure that represents a list of unique elements and their frequency of occurances within some data."
   ]
  },
  {
   "cell_type": "markdown",
   "metadata": {},
   "source": [
    "# Tuples\n",
    "\n",
    "A tuple variable stores an ordered sequence of values. The following examples show the three ways a tuple object can be assigned:\n",
    "    1. Using a pair of parentheses: t = ('A', 'B')\n",
    "    2. A sequence of values separated by commas without the parentheses: t = 'a', 'b', 'c', 'd', 'e'\n",
    "    3. Using tuple() function: t = tuple('abcde')"
   ]
  },
  {
   "cell_type": "code",
   "execution_count": null,
   "metadata": {
    "execution": {
     "iopub.execute_input": "2021-06-26T09:07:42.457852Z",
     "iopub.status.busy": "2021-06-26T09:07:42.456626Z",
     "iopub.status.idle": "2021-06-26T09:07:42.468893Z",
     "shell.execute_reply": "2021-06-26T09:07:42.467966Z",
     "shell.execute_reply.started": "2021-06-26T09:07:42.457801Z"
    },
    "trusted": true
   },
   "outputs": [],
   "source": [
    "t = 'a', 'b', 'c', 'd', 'e'\n",
    "print(t == tuple('abcde') )\n",
    "\n",
    "t = ('A', 'B') + t[2:]\n",
    "print(t)\n",
    "\n",
    "print(() == tuple())"
   ]
  },
  {
   "cell_type": "markdown",
   "metadata": {},
   "source": [
    "In many ways, tuples are similar to lists in Python. In the above example, we see that elements in a tuple can be addressed using square brackets just like in a list. Concatenating two tuples into a new tuple variable is denoted using the \"+\" operator. In the last example, an empty tuple is denoted using *()* or *tuple()*.\n",
    "\n",
    "A tuple may contain just one element. However, the way to declare a single-element tuple must be different from the way to declare a single variable. See the examples below:"
   ]
  },
  {
   "cell_type": "code",
   "execution_count": null,
   "metadata": {
    "execution": {
     "iopub.execute_input": "2021-06-26T09:09:02.34211Z",
     "iopub.status.busy": "2021-06-26T09:09:02.341229Z",
     "iopub.status.idle": "2021-06-26T09:09:02.351823Z",
     "shell.execute_reply": "2021-06-26T09:09:02.350894Z",
     "shell.execute_reply.started": "2021-06-26T09:09:02.342069Z"
    },
    "trusted": true
   },
   "outputs": [],
   "source": [
    "t = 'a',  # Single-element tuple\n",
    "s = ('a') # a string\n",
    "print(type(t), type(s))\n",
    "\n",
    "t = 0,    # Single-element tuple\n",
    "i = (0)   # an integer\n",
    "print(type(t), type(i))"
   ]
  },
  {
   "cell_type": "markdown",
   "metadata": {},
   "source": [
    "Different from lists, however, tuples are immutable type variables. Once created, tuple elements cannot be changed without forcing Python to create a new object. The following statement will return runtime error:"
   ]
  },
  {
   "cell_type": "code",
   "execution_count": null,
   "metadata": {
    "trusted": true
   },
   "outputs": [],
   "source": [
    "t = 'a', 'b'\n",
    "t[1] = 'c'"
   ]
  },
  {
   "cell_type": "markdown",
   "metadata": {},
   "source": [
    "However, if tuple elements are themselves mutable, then the values of the elements can be changed without changing the tuple object itself. See the following examples:"
   ]
  },
  {
   "cell_type": "code",
   "execution_count": null,
   "metadata": {
    "execution": {
     "iopub.execute_input": "2021-06-26T09:11:38.945441Z",
     "iopub.status.busy": "2021-06-26T09:11:38.945046Z",
     "iopub.status.idle": "2021-06-26T09:11:38.953129Z",
     "shell.execute_reply": "2021-06-26T09:11:38.952125Z",
     "shell.execute_reply.started": "2021-06-26T09:11:38.945404Z"
    },
    "trusted": true
   },
   "outputs": [],
   "source": [
    "# Negative example: when the elements are not mutable\n",
    "string = 'A'; number = 1\n",
    "t = string, number\n",
    "print('Initial value: ', t)\n",
    "number = 2\n",
    "print('Values are immutable: ', t)\n",
    "\n",
    "# Positive example: when the elements are mutable\n",
    "l = list('abc')\n",
    "t = l, l\n",
    "print('Initial value: ', t)\n",
    "l[2] = 'a'\n",
    "print('Mutable elements: ', t)"
   ]
  },
  {
   "cell_type": "markdown",
   "metadata": {},
   "source": [
    "In Python, a sequence of values can be compared to another sequence. The comparison is performed from left to right element-wise, with two exceptions:\n",
    "    1. Circuit breaker: When comparing \"<\" or \">\" relationships, the comparison will return True or False when the first non-identical position satisfies either \"<\" or \">\" relationships, and will disregard any possible situation after the position.\n",
    "    2. Element-wise comparison must be of the same type: When comparing two elements at the same sequence position, they must have the same type. Otherwise Python will return \"TypeError\"."
   ]
  },
  {
   "cell_type": "code",
   "execution_count": null,
   "metadata": {
    "trusted": true
   },
   "outputs": [],
   "source": [
    "# String comparison with circuit breaker\n",
    "print('abc'>'a')\n",
    "\n",
    "# Tuple comparison with circuit breaker\n",
    "print( (1, 2, 'c') > (1, 2))\n",
    "print( (1, 2, 'c') > (1, 3, 3))\n",
    "\n",
    "# List comparison\n",
    "print([1, 2, 'c'] > [1, 2, 'a'])\n",
    "print([1, 2, 'c'] > [1, 2, 3])"
   ]
  },
  {
   "cell_type": "markdown",
   "metadata": {},
   "source": [
    "Another scenario where tuples are used is in defining input and output values of functions. Let us see some examples below:"
   ]
  },
  {
   "cell_type": "code",
   "execution_count": 1,
   "metadata": {
    "execution": {
     "iopub.execute_input": "2021-06-27T10:15:42.352307Z",
     "iopub.status.busy": "2021-06-27T10:15:42.351928Z",
     "iopub.status.idle": "2021-06-27T10:15:42.359526Z",
     "shell.execute_reply": "2021-06-27T10:15:42.358292Z",
     "shell.execute_reply.started": "2021-06-27T10:15:42.352258Z"
    },
    "trusted": true
   },
   "outputs": [
    {
     "name": "stdout",
     "output_type": "stream",
     "text": [
      "allenyang berkeley.edu\n",
      "Roses are red  Violets are blue, Sugar is sweet\n",
      " Sugar is sweet\n"
     ]
    }
   ],
   "source": [
    "email = 'allenyang@berkeley.edu'\n",
    "name, address = email.split('@')       # return of the string.split() method is a tuple\n",
    "print(name, address)\n",
    "\n",
    "poem = 'Roses are red, Violets are blue, Sugar is sweet'\n",
    "a, b = poem.split(',', 1)\n",
    "print(a, b)\n",
    "\n",
    "a, b, c = poem.split(',')\n",
    "print(c)"
   ]
  },
  {
   "cell_type": "markdown",
   "metadata": {},
   "source": [
    "In the above sample code, a built-in method of string type *split()* will return a tuple. For example, if we split a string of an email address using the pattern \"@\", then the substring before \"@\" will be assigned to the first element of the tuple *name* and the substring after \"@\" will be assigned to the second element \"address\". In the second example, *split()* may return a tuple of multiple elements, if the split pattern appears in multiple locations of the string. \n",
    "\n",
    "Tuples can be used to hold return values from a function. They can also be used to hold input argument values of variable length. Let us see another simple example below:"
   ]
  },
  {
   "cell_type": "code",
   "execution_count": 5,
   "metadata": {
    "execution": {
     "iopub.execute_input": "2022-07-30T20:58:38.382747Z",
     "iopub.status.busy": "2022-07-30T20:58:38.382339Z",
     "iopub.status.idle": "2022-07-30T20:58:38.392033Z",
     "shell.execute_reply": "2022-07-30T20:58:38.390298Z",
     "shell.execute_reply.started": "2022-07-30T20:58:38.382708Z"
    },
    "trusted": true
   },
   "outputs": [
    {
     "name": "stdout",
     "output_type": "stream",
     "text": [
      "3\n",
      "4\n",
      "Input length:  1\n",
      "args =  (1,)\n",
      "1\n"
     ]
    }
   ],
   "source": [
    "print(max(2, 3))\n",
    "print(max(2, 3, 4))\n",
    "\n",
    "def my_max(*args):\n",
    "    print('Input length: ', len(args))\n",
    "    print('args = ', args)\n",
    "    return(max(args))\n",
    "\n",
    "print(my_max(1))"
   ]
  },
  {
   "cell_type": "markdown",
   "metadata": {},
   "source": [
    "In the above sample code, we see that some Python functions accept input arguments of variable length, such as *max()* and *print()*. In addition, using tuples, we can define our own functions that accept arguments of variable length. In the definition of *my_max()*, we use a reserved symbol \"*\" to indicate that args should be treated as a tuple to hold multiple input values of variable length. In Python, the \"*\" symbol used in this scenario is called the **packing operator**."
   ]
  },
  {
   "cell_type": "markdown",
   "metadata": {},
   "source": [
    "# Dictionaries\n",
    "\n",
    "Dictionary can be viewed as a generalization of the list type. In the list type, each element is indexed by an unique integer in ascending order. In dictionaries, each element is a **(key, value)** pair. Furthermore, the value of a dictionary entry will be addressed by its corresponding unique key. \n",
    "\n",
    "Let us see a few examples below:"
   ]
  },
  {
   "cell_type": "code",
   "execution_count": null,
   "metadata": {
    "execution": {
     "iopub.execute_input": "2021-06-27T10:58:35.412219Z",
     "iopub.status.busy": "2021-06-27T10:58:35.41183Z",
     "iopub.status.idle": "2021-06-27T10:58:35.419596Z",
     "shell.execute_reply": "2021-06-27T10:58:35.418606Z",
     "shell.execute_reply.started": "2021-06-27T10:58:35.412188Z"
    },
    "trusted": true
   },
   "outputs": [],
   "source": [
    "D = {1: 'one', 2: 'two', 3: 'three'}\n",
    "print(len(D))\n",
    "print(D[2])\n",
    "\n",
    "English_to_Chinese={}     # Define an empty dictionary\n",
    "English_to_Chinese['one'] = '一'\n",
    "English_to_Chinese['two'] = '二'\n",
    "English_to_Chinese['three'] = '三'\n",
    "\n",
    "del(English_to_Chinese['two'])\n",
    "print(English_to_Chinese)"
   ]
  },
  {
   "cell_type": "markdown",
   "metadata": {},
   "source": [
    "In the first example above, the dictionary *D* has three entries, i.e., first entry has the (key, value) pair as (1, 'one), etc. Retrieving the entry value corresponding to the key value of 2 is by *D[2]*.\n",
    "\n",
    "The second example demonstrates more powerful ways to retrieve a dictionary's entry values. The key can be other variable types such as strings. We can create a dictionary for translation purposes, where a unique English word is used as the key, and its corresponding entry value is its translation in another language such as Chinese. \n",
    "\n",
    "In here, we should note that any immutable type value can be assigned to be a key. However, not all variable type can be used as a key value. Let us consider the counterexample below:"
   ]
  },
  {
   "cell_type": "code",
   "execution_count": null,
   "metadata": {
    "trusted": true
   },
   "outputs": [],
   "source": [
    "English_to_Chinese={} \n",
    "English_to_Chinese[[1, 2, 3]] = 'variable'"
   ]
  },
  {
   "cell_type": "markdown",
   "metadata": {},
   "source": [
    "If you run the above code, Python will return a runtime error: \"TypeError: unhashable type: 'list'\". It shows list type variables cannot be used as valid keys. The concept of **hashable** mentioned in the error message will be discussed in more detail in the next class. \n",
    "\n",
    "One of the widely used applications for dictionaries is the construction of histograms. A histogram is a representation of the frequency of distinct data values. A histogram can be conveniently stored in a dictionary:\n",
    "\n",
    "    * Key: distinct data values\n",
    "    * Value: occurrence frequency (absolute count or relative percentage)\n",
    "    \n",
    "Let us see the sample code below:"
   ]
  },
  {
   "cell_type": "code",
   "execution_count": 17,
   "metadata": {
    "execution": {
     "iopub.execute_input": "2021-06-25T23:47:20.030401Z",
     "iopub.status.busy": "2021-06-25T23:47:20.030046Z",
     "iopub.status.idle": "2021-06-25T23:47:20.045078Z",
     "shell.execute_reply": "2021-06-25T23:47:20.044023Z",
     "shell.execute_reply.started": "2021-06-25T23:47:20.030371Z"
    },
    "trusted": true
   },
   "outputs": [
    {
     "name": "stdout",
     "output_type": "stream",
     "text": [
      "w e c a n k o l y t h i g d s r f u m \n",
      "5 7 1 5 8 2 6 1 1 7 7 4 3 3 3 1 1 1 2 "
     ]
    }
   ],
   "source": [
    "# Build a character histogram\n",
    "\n",
    "histogram = dict()\n",
    "text = 'We can know only that we know nothing. \\\n",
    "    And that is the highest degree of human wisdom.' # From War and Peace\n",
    "\n",
    "for c in text:\n",
    "    if c.isalpha():    # Test alphabet property\n",
    "        c = c.lower()  # Identify uppercase and lowercase\n",
    "        if c in histogram:\n",
    "            histogram[c] += 1\n",
    "        else:\n",
    "            histogram[c] = 1\n",
    "\n",
    "for key in histogram:\n",
    "    print(key, end = ' ')\n",
    "print()\n",
    "for key in histogram:\n",
    "    print(histogram[key], end = ' ')"
   ]
  },
  {
   "cell_type": "markdown",
   "metadata": {},
   "source": [
    "In the above sample code, a *for* loop enumerates all the characters in the text variable. The goal is to calculate the occurrence count of distinct English letters. The histogram only calculates valid alphabets and also ignores the difference between uppercase and lowercase. Therefore, the algorithm used *c.isalpha()* and *c.lower()* functions. \n",
    "\n",
    "The expression *c in histogram* uses the *in* operator to search if the value of *c* is already a key in the dictionary. If yes, then the algorithm will add the occurrence plus one; otherwise, the dictionary will create a new (key, value) pair with the new value assigned to the initial value of 1.\n",
    "\n",
    "The final output of the alphabet histogram from the *text* quote indicates there are five occurrences of letter \"w\" or \"W\", seven occurrences of letter \"e\" or \"E\", etc.\n",
    "\n",
    "Next, we consider a problem of inverting a dictionary (key, value) pair. That is, creating a new dictionary whereby the existing dictionary's values are keys in the new dictionary, and vice versa. \n",
    "\n",
    "Let us first see the solution code:"
   ]
  },
  {
   "cell_type": "code",
   "execution_count": 2,
   "metadata": {
    "execution": {
     "iopub.execute_input": "2021-06-26T08:35:21.923474Z",
     "iopub.status.busy": "2021-06-26T08:35:21.92287Z",
     "iopub.status.idle": "2021-06-26T08:35:21.940109Z",
     "shell.execute_reply": "2021-06-26T08:35:21.938759Z",
     "shell.execute_reply.started": "2021-06-26T08:35:21.923436Z"
    },
    "trusted": true
   },
   "outputs": [
    {
     "name": "stdout",
     "output_type": "stream",
     "text": [
      "w e c a n k o l y t h i g d s r f u m \n",
      "5 7 1 5 8 2 6 1 1 7 7 4 3 3 3 1 1 1 2 \n",
      "Invert the histogram ...\n",
      "{5: ['w', 'a'], 7: ['e', 't', 'h'], 1: ['c', 'l', 'y', 'r', 'f', 'u'], 8: ['n'], 2: ['k', 'm'], 6: ['o'], 4: ['i'], 3: ['g', 'd', 's']}\n"
     ]
    }
   ],
   "source": [
    "# Build a histogram dictionary\n",
    "histogram = dict()\n",
    "text = 'We can know only that we know nothing. And that is the highest degree of human wisdom'\n",
    "\n",
    "for c in text:\n",
    "    if c.isalpha():\n",
    "        c = c.lower()\n",
    "        if c in histogram:\n",
    "            histogram[c] += 1\n",
    "        else:\n",
    "            histogram[c] = 1\n",
    "\n",
    "def invert_dictionary(input_dictionary):\n",
    "    '''\n",
    "    Invert the mapping between keys and values of a dictionary\n",
    "    Parameters\n",
    "    Input:  input_dictionary    - a dict type\n",
    "    Output: result              - dict result\n",
    "    '''\n",
    "\n",
    "    if type(input_dictionary)!=dict:\n",
    "        raise TypeError('Argument must be dict type.')\n",
    "\n",
    "    result = dict()\n",
    "    for key in input_dictionary:\n",
    "        value = input_dictionary[key]\n",
    "        if value not in result:\n",
    "            result[value] = [key]\n",
    "        else:\n",
    "            result[value].append(key)\n",
    "\n",
    "    return result\n",
    "\n",
    "# print out the histogram\n",
    "for key in histogram:\n",
    "    print(key, end = ' ')\n",
    "print()\n",
    "for key in histogram:\n",
    "    print(histogram[key], end = ' ')\n",
    "print()\n",
    "# Call invert_dictionary\n",
    "print(\"Invert the histogram ...\")\n",
    "inverse = invert_dictionary(histogram)\n",
    "print(inverse)\n"
   ]
  },
  {
   "cell_type": "markdown",
   "metadata": {},
   "source": [
    "The function *invert_dictionary() creates and returns a new dictionary, whose keys are the value entries of the input dictionary and the values are the keys of the input dictionary. In line 25, the *for* loop enumerates all the unique entries of *input_dictionary* with their key value assigned to the variable *key*. Then the corresponding *value* entry is retrieved in line 26. In lines 27 to 30, the *result* dictionary accepts *value* as its key value.\n",
    "\n",
    "Specifically, since *value* is retrieved from *input_dictionary*, it may not be unique. In the above case, multiple alphabets may have the same occurrence. Therefore, those keys from *input_dictionary* will need to be organized into a list corresponding to using their occurrence number as the key in the new dictionary.\n",
    "\n",
    "Python supports very efficient search to determine if a key is in a dictionary or not using the operator *in*, such as in line 27 we have: *if value not in result:*\n",
    "\n",
    "To demonstrate how efficient is the key search implemented in Python, let us evaluate another sample code below:"
   ]
  },
  {
   "cell_type": "code",
   "execution_count": 3,
   "metadata": {
    "execution": {
     "iopub.execute_input": "2023-06-29T17:51:04.351670Z",
     "iopub.status.busy": "2023-06-29T17:51:04.351398Z",
     "iopub.status.idle": "2023-06-29T17:51:11.287255Z",
     "shell.execute_reply": "2023-06-29T17:51:11.286626Z",
     "shell.execute_reply.started": "2023-06-29T17:51:04.351644Z"
    },
    "trusted": true
   },
   "outputs": [
    {
     "name": "stdout",
     "output_type": "stream",
     "text": [
      "Reading text file from url ...  "
     ]
    },
    {
     "ename": "URLError",
     "evalue": "<urlopen error [SSL: CERTIFICATE_VERIFY_FAILED] certificate verify failed: unable to get local issuer certificate (_ssl.c:1006)>",
     "output_type": "error",
     "traceback": [
      "\u001b[31m---------------------------------------------------------------------------\u001b[39m",
      "\u001b[31mSSLCertVerificationError\u001b[39m                  Traceback (most recent call last)",
      "\u001b[36mFile \u001b[39m\u001b[32m/Library/Frameworks/Python.framework/Versions/3.11/lib/python3.11/urllib/request.py:1348\u001b[39m, in \u001b[36mAbstractHTTPHandler.do_open\u001b[39m\u001b[34m(self, http_class, req, **http_conn_args)\u001b[39m\n\u001b[32m   1347\u001b[39m \u001b[38;5;28;01mtry\u001b[39;00m:\n\u001b[32m-> \u001b[39m\u001b[32m1348\u001b[39m     \u001b[43mh\u001b[49m\u001b[43m.\u001b[49m\u001b[43mrequest\u001b[49m\u001b[43m(\u001b[49m\u001b[43mreq\u001b[49m\u001b[43m.\u001b[49m\u001b[43mget_method\u001b[49m\u001b[43m(\u001b[49m\u001b[43m)\u001b[49m\u001b[43m,\u001b[49m\u001b[43m \u001b[49m\u001b[43mreq\u001b[49m\u001b[43m.\u001b[49m\u001b[43mselector\u001b[49m\u001b[43m,\u001b[49m\u001b[43m \u001b[49m\u001b[43mreq\u001b[49m\u001b[43m.\u001b[49m\u001b[43mdata\u001b[49m\u001b[43m,\u001b[49m\u001b[43m \u001b[49m\u001b[43mheaders\u001b[49m\u001b[43m,\u001b[49m\n\u001b[32m   1349\u001b[39m \u001b[43m              \u001b[49m\u001b[43mencode_chunked\u001b[49m\u001b[43m=\u001b[49m\u001b[43mreq\u001b[49m\u001b[43m.\u001b[49m\u001b[43mhas_header\u001b[49m\u001b[43m(\u001b[49m\u001b[33;43m'\u001b[39;49m\u001b[33;43mTransfer-encoding\u001b[39;49m\u001b[33;43m'\u001b[39;49m\u001b[43m)\u001b[49m\u001b[43m)\u001b[49m\n\u001b[32m   1350\u001b[39m \u001b[38;5;28;01mexcept\u001b[39;00m \u001b[38;5;167;01mOSError\u001b[39;00m \u001b[38;5;28;01mas\u001b[39;00m err: \u001b[38;5;66;03m# timeout error\u001b[39;00m\n",
      "\u001b[36mFile \u001b[39m\u001b[32m/Library/Frameworks/Python.framework/Versions/3.11/lib/python3.11/http/client.py:1303\u001b[39m, in \u001b[36mHTTPConnection.request\u001b[39m\u001b[34m(self, method, url, body, headers, encode_chunked)\u001b[39m\n\u001b[32m   1302\u001b[39m \u001b[38;5;250m\u001b[39m\u001b[33;03m\"\"\"Send a complete request to the server.\"\"\"\u001b[39;00m\n\u001b[32m-> \u001b[39m\u001b[32m1303\u001b[39m \u001b[38;5;28;43mself\u001b[39;49m\u001b[43m.\u001b[49m\u001b[43m_send_request\u001b[49m\u001b[43m(\u001b[49m\u001b[43mmethod\u001b[49m\u001b[43m,\u001b[49m\u001b[43m \u001b[49m\u001b[43murl\u001b[49m\u001b[43m,\u001b[49m\u001b[43m \u001b[49m\u001b[43mbody\u001b[49m\u001b[43m,\u001b[49m\u001b[43m \u001b[49m\u001b[43mheaders\u001b[49m\u001b[43m,\u001b[49m\u001b[43m \u001b[49m\u001b[43mencode_chunked\u001b[49m\u001b[43m)\u001b[49m\n",
      "\u001b[36mFile \u001b[39m\u001b[32m/Library/Frameworks/Python.framework/Versions/3.11/lib/python3.11/http/client.py:1349\u001b[39m, in \u001b[36mHTTPConnection._send_request\u001b[39m\u001b[34m(self, method, url, body, headers, encode_chunked)\u001b[39m\n\u001b[32m   1348\u001b[39m     body = _encode(body, \u001b[33m'\u001b[39m\u001b[33mbody\u001b[39m\u001b[33m'\u001b[39m)\n\u001b[32m-> \u001b[39m\u001b[32m1349\u001b[39m \u001b[38;5;28;43mself\u001b[39;49m\u001b[43m.\u001b[49m\u001b[43mendheaders\u001b[49m\u001b[43m(\u001b[49m\u001b[43mbody\u001b[49m\u001b[43m,\u001b[49m\u001b[43m \u001b[49m\u001b[43mencode_chunked\u001b[49m\u001b[43m=\u001b[49m\u001b[43mencode_chunked\u001b[49m\u001b[43m)\u001b[49m\n",
      "\u001b[36mFile \u001b[39m\u001b[32m/Library/Frameworks/Python.framework/Versions/3.11/lib/python3.11/http/client.py:1298\u001b[39m, in \u001b[36mHTTPConnection.endheaders\u001b[39m\u001b[34m(self, message_body, encode_chunked)\u001b[39m\n\u001b[32m   1297\u001b[39m     \u001b[38;5;28;01mraise\u001b[39;00m CannotSendHeader()\n\u001b[32m-> \u001b[39m\u001b[32m1298\u001b[39m \u001b[38;5;28;43mself\u001b[39;49m\u001b[43m.\u001b[49m\u001b[43m_send_output\u001b[49m\u001b[43m(\u001b[49m\u001b[43mmessage_body\u001b[49m\u001b[43m,\u001b[49m\u001b[43m \u001b[49m\u001b[43mencode_chunked\u001b[49m\u001b[43m=\u001b[49m\u001b[43mencode_chunked\u001b[49m\u001b[43m)\u001b[49m\n",
      "\u001b[36mFile \u001b[39m\u001b[32m/Library/Frameworks/Python.framework/Versions/3.11/lib/python3.11/http/client.py:1058\u001b[39m, in \u001b[36mHTTPConnection._send_output\u001b[39m\u001b[34m(self, message_body, encode_chunked)\u001b[39m\n\u001b[32m   1057\u001b[39m \u001b[38;5;28;01mdel\u001b[39;00m \u001b[38;5;28mself\u001b[39m._buffer[:]\n\u001b[32m-> \u001b[39m\u001b[32m1058\u001b[39m \u001b[38;5;28;43mself\u001b[39;49m\u001b[43m.\u001b[49m\u001b[43msend\u001b[49m\u001b[43m(\u001b[49m\u001b[43mmsg\u001b[49m\u001b[43m)\u001b[49m\n\u001b[32m   1060\u001b[39m \u001b[38;5;28;01mif\u001b[39;00m message_body \u001b[38;5;129;01mis\u001b[39;00m \u001b[38;5;129;01mnot\u001b[39;00m \u001b[38;5;28;01mNone\u001b[39;00m:\n\u001b[32m   1061\u001b[39m \n\u001b[32m   1062\u001b[39m     \u001b[38;5;66;03m# create a consistent interface to message_body\u001b[39;00m\n",
      "\u001b[36mFile \u001b[39m\u001b[32m/Library/Frameworks/Python.framework/Versions/3.11/lib/python3.11/http/client.py:996\u001b[39m, in \u001b[36mHTTPConnection.send\u001b[39m\u001b[34m(self, data)\u001b[39m\n\u001b[32m    995\u001b[39m \u001b[38;5;28;01mif\u001b[39;00m \u001b[38;5;28mself\u001b[39m.auto_open:\n\u001b[32m--> \u001b[39m\u001b[32m996\u001b[39m     \u001b[38;5;28;43mself\u001b[39;49m\u001b[43m.\u001b[49m\u001b[43mconnect\u001b[49m\u001b[43m(\u001b[49m\u001b[43m)\u001b[49m\n\u001b[32m    997\u001b[39m \u001b[38;5;28;01melse\u001b[39;00m:\n",
      "\u001b[36mFile \u001b[39m\u001b[32m/Library/Frameworks/Python.framework/Versions/3.11/lib/python3.11/http/client.py:1475\u001b[39m, in \u001b[36mHTTPSConnection.connect\u001b[39m\u001b[34m(self)\u001b[39m\n\u001b[32m   1473\u001b[39m     server_hostname = \u001b[38;5;28mself\u001b[39m.host\n\u001b[32m-> \u001b[39m\u001b[32m1475\u001b[39m \u001b[38;5;28mself\u001b[39m.sock = \u001b[38;5;28;43mself\u001b[39;49m\u001b[43m.\u001b[49m\u001b[43m_context\u001b[49m\u001b[43m.\u001b[49m\u001b[43mwrap_socket\u001b[49m\u001b[43m(\u001b[49m\u001b[38;5;28;43mself\u001b[39;49m\u001b[43m.\u001b[49m\u001b[43msock\u001b[49m\u001b[43m,\u001b[49m\n\u001b[32m   1476\u001b[39m \u001b[43m                                      \u001b[49m\u001b[43mserver_hostname\u001b[49m\u001b[43m=\u001b[49m\u001b[43mserver_hostname\u001b[49m\u001b[43m)\u001b[49m\n",
      "\u001b[36mFile \u001b[39m\u001b[32m/Library/Frameworks/Python.framework/Versions/3.11/lib/python3.11/ssl.py:517\u001b[39m, in \u001b[36mSSLContext.wrap_socket\u001b[39m\u001b[34m(self, sock, server_side, do_handshake_on_connect, suppress_ragged_eofs, server_hostname, session)\u001b[39m\n\u001b[32m    511\u001b[39m \u001b[38;5;28;01mdef\u001b[39;00m\u001b[38;5;250m \u001b[39m\u001b[34mwrap_socket\u001b[39m(\u001b[38;5;28mself\u001b[39m, sock, server_side=\u001b[38;5;28;01mFalse\u001b[39;00m,\n\u001b[32m    512\u001b[39m                 do_handshake_on_connect=\u001b[38;5;28;01mTrue\u001b[39;00m,\n\u001b[32m    513\u001b[39m                 suppress_ragged_eofs=\u001b[38;5;28;01mTrue\u001b[39;00m,\n\u001b[32m    514\u001b[39m                 server_hostname=\u001b[38;5;28;01mNone\u001b[39;00m, session=\u001b[38;5;28;01mNone\u001b[39;00m):\n\u001b[32m    515\u001b[39m     \u001b[38;5;66;03m# SSLSocket class handles server_hostname encoding before it calls\u001b[39;00m\n\u001b[32m    516\u001b[39m     \u001b[38;5;66;03m# ctx._wrap_socket()\u001b[39;00m\n\u001b[32m--> \u001b[39m\u001b[32m517\u001b[39m     \u001b[38;5;28;01mreturn\u001b[39;00m \u001b[38;5;28;43mself\u001b[39;49m\u001b[43m.\u001b[49m\u001b[43msslsocket_class\u001b[49m\u001b[43m.\u001b[49m\u001b[43m_create\u001b[49m\u001b[43m(\u001b[49m\n\u001b[32m    518\u001b[39m \u001b[43m        \u001b[49m\u001b[43msock\u001b[49m\u001b[43m=\u001b[49m\u001b[43msock\u001b[49m\u001b[43m,\u001b[49m\n\u001b[32m    519\u001b[39m \u001b[43m        \u001b[49m\u001b[43mserver_side\u001b[49m\u001b[43m=\u001b[49m\u001b[43mserver_side\u001b[49m\u001b[43m,\u001b[49m\n\u001b[32m    520\u001b[39m \u001b[43m        \u001b[49m\u001b[43mdo_handshake_on_connect\u001b[49m\u001b[43m=\u001b[49m\u001b[43mdo_handshake_on_connect\u001b[49m\u001b[43m,\u001b[49m\n\u001b[32m    521\u001b[39m \u001b[43m        \u001b[49m\u001b[43msuppress_ragged_eofs\u001b[49m\u001b[43m=\u001b[49m\u001b[43msuppress_ragged_eofs\u001b[49m\u001b[43m,\u001b[49m\n\u001b[32m    522\u001b[39m \u001b[43m        \u001b[49m\u001b[43mserver_hostname\u001b[49m\u001b[43m=\u001b[49m\u001b[43mserver_hostname\u001b[49m\u001b[43m,\u001b[49m\n\u001b[32m    523\u001b[39m \u001b[43m        \u001b[49m\u001b[43mcontext\u001b[49m\u001b[43m=\u001b[49m\u001b[38;5;28;43mself\u001b[39;49m\u001b[43m,\u001b[49m\n\u001b[32m    524\u001b[39m \u001b[43m        \u001b[49m\u001b[43msession\u001b[49m\u001b[43m=\u001b[49m\u001b[43msession\u001b[49m\n\u001b[32m    525\u001b[39m \u001b[43m    \u001b[49m\u001b[43m)\u001b[49m\n",
      "\u001b[36mFile \u001b[39m\u001b[32m/Library/Frameworks/Python.framework/Versions/3.11/lib/python3.11/ssl.py:1104\u001b[39m, in \u001b[36mSSLSocket._create\u001b[39m\u001b[34m(cls, sock, server_side, do_handshake_on_connect, suppress_ragged_eofs, server_hostname, context, session)\u001b[39m\n\u001b[32m   1103\u001b[39m                 \u001b[38;5;28;01mraise\u001b[39;00m \u001b[38;5;167;01mValueError\u001b[39;00m(\u001b[33m\"\u001b[39m\u001b[33mdo_handshake_on_connect should not be specified for non-blocking sockets\u001b[39m\u001b[33m\"\u001b[39m)\n\u001b[32m-> \u001b[39m\u001b[32m1104\u001b[39m             \u001b[38;5;28;43mself\u001b[39;49m\u001b[43m.\u001b[49m\u001b[43mdo_handshake\u001b[49m\u001b[43m(\u001b[49m\u001b[43m)\u001b[49m\n\u001b[32m   1105\u001b[39m \u001b[38;5;28;01mexcept\u001b[39;00m:\n",
      "\u001b[36mFile \u001b[39m\u001b[32m/Library/Frameworks/Python.framework/Versions/3.11/lib/python3.11/ssl.py:1382\u001b[39m, in \u001b[36mSSLSocket.do_handshake\u001b[39m\u001b[34m(self, block)\u001b[39m\n\u001b[32m   1381\u001b[39m         \u001b[38;5;28mself\u001b[39m.settimeout(\u001b[38;5;28;01mNone\u001b[39;00m)\n\u001b[32m-> \u001b[39m\u001b[32m1382\u001b[39m     \u001b[38;5;28;43mself\u001b[39;49m\u001b[43m.\u001b[49m\u001b[43m_sslobj\u001b[49m\u001b[43m.\u001b[49m\u001b[43mdo_handshake\u001b[49m\u001b[43m(\u001b[49m\u001b[43m)\u001b[49m\n\u001b[32m   1383\u001b[39m \u001b[38;5;28;01mfinally\u001b[39;00m:\n",
      "\u001b[31mSSLCertVerificationError\u001b[39m: [SSL: CERTIFICATE_VERIFY_FAILED] certificate verify failed: unable to get local issuer certificate (_ssl.c:1006)",
      "\nDuring handling of the above exception, another exception occurred:\n",
      "\u001b[31mURLError\u001b[39m                                  Traceback (most recent call last)",
      "\u001b[36mCell\u001b[39m\u001b[36m \u001b[39m\u001b[32mIn[3]\u001b[39m\u001b[32m, line 16\u001b[39m\n\u001b[32m     14\u001b[39m \u001b[38;5;66;03m# Put IO functions in try -- finally\u001b[39;00m\n\u001b[32m     15\u001b[39m \u001b[38;5;28mprint\u001b[39m(\u001b[33m'\u001b[39m\u001b[33mReading text file from url ... \u001b[39m\u001b[33m'\u001b[39m, end = \u001b[33m'\u001b[39m\u001b[33m \u001b[39m\u001b[33m'\u001b[39m)\n\u001b[32m---> \u001b[39m\u001b[32m16\u001b[39m file = \u001b[43murlopen\u001b[49m\u001b[43m(\u001b[49m\u001b[43mfile_url\u001b[49m\u001b[43m)\u001b[49m\n\u001b[32m     18\u001b[39m \u001b[38;5;66;03m# Create three dictionaries of different lengths\u001b[39;00m\n\u001b[32m     19\u001b[39m count = \u001b[32m0\u001b[39m\n",
      "\u001b[36mFile \u001b[39m\u001b[32m/Library/Frameworks/Python.framework/Versions/3.11/lib/python3.11/urllib/request.py:216\u001b[39m, in \u001b[36murlopen\u001b[39m\u001b[34m(url, data, timeout, cafile, capath, cadefault, context)\u001b[39m\n\u001b[32m    214\u001b[39m \u001b[38;5;28;01melse\u001b[39;00m:\n\u001b[32m    215\u001b[39m     opener = _opener\n\u001b[32m--> \u001b[39m\u001b[32m216\u001b[39m \u001b[38;5;28;01mreturn\u001b[39;00m \u001b[43mopener\u001b[49m\u001b[43m.\u001b[49m\u001b[43mopen\u001b[49m\u001b[43m(\u001b[49m\u001b[43murl\u001b[49m\u001b[43m,\u001b[49m\u001b[43m \u001b[49m\u001b[43mdata\u001b[49m\u001b[43m,\u001b[49m\u001b[43m \u001b[49m\u001b[43mtimeout\u001b[49m\u001b[43m)\u001b[49m\n",
      "\u001b[36mFile \u001b[39m\u001b[32m/Library/Frameworks/Python.framework/Versions/3.11/lib/python3.11/urllib/request.py:525\u001b[39m, in \u001b[36mOpenerDirector.open\u001b[39m\u001b[34m(self, fullurl, data, timeout)\u001b[39m\n\u001b[32m    523\u001b[39m \u001b[38;5;28;01mfor\u001b[39;00m processor \u001b[38;5;129;01min\u001b[39;00m \u001b[38;5;28mself\u001b[39m.process_response.get(protocol, []):\n\u001b[32m    524\u001b[39m     meth = \u001b[38;5;28mgetattr\u001b[39m(processor, meth_name)\n\u001b[32m--> \u001b[39m\u001b[32m525\u001b[39m     response = \u001b[43mmeth\u001b[49m\u001b[43m(\u001b[49m\u001b[43mreq\u001b[49m\u001b[43m,\u001b[49m\u001b[43m \u001b[49m\u001b[43mresponse\u001b[49m\u001b[43m)\u001b[49m\n\u001b[32m    527\u001b[39m \u001b[38;5;28;01mreturn\u001b[39;00m response\n",
      "\u001b[36mFile \u001b[39m\u001b[32m/Library/Frameworks/Python.framework/Versions/3.11/lib/python3.11/urllib/request.py:634\u001b[39m, in \u001b[36mHTTPErrorProcessor.http_response\u001b[39m\u001b[34m(self, request, response)\u001b[39m\n\u001b[32m    631\u001b[39m \u001b[38;5;66;03m# According to RFC 2616, \"2xx\" code indicates that the client's\u001b[39;00m\n\u001b[32m    632\u001b[39m \u001b[38;5;66;03m# request was successfully received, understood, and accepted.\u001b[39;00m\n\u001b[32m    633\u001b[39m \u001b[38;5;28;01mif\u001b[39;00m \u001b[38;5;129;01mnot\u001b[39;00m (\u001b[32m200\u001b[39m <= code < \u001b[32m300\u001b[39m):\n\u001b[32m--> \u001b[39m\u001b[32m634\u001b[39m     response = \u001b[38;5;28;43mself\u001b[39;49m\u001b[43m.\u001b[49m\u001b[43mparent\u001b[49m\u001b[43m.\u001b[49m\u001b[43merror\u001b[49m\u001b[43m(\u001b[49m\n\u001b[32m    635\u001b[39m \u001b[43m        \u001b[49m\u001b[33;43m'\u001b[39;49m\u001b[33;43mhttp\u001b[39;49m\u001b[33;43m'\u001b[39;49m\u001b[43m,\u001b[49m\u001b[43m \u001b[49m\u001b[43mrequest\u001b[49m\u001b[43m,\u001b[49m\u001b[43m \u001b[49m\u001b[43mresponse\u001b[49m\u001b[43m,\u001b[49m\u001b[43m \u001b[49m\u001b[43mcode\u001b[49m\u001b[43m,\u001b[49m\u001b[43m \u001b[49m\u001b[43mmsg\u001b[49m\u001b[43m,\u001b[49m\u001b[43m \u001b[49m\u001b[43mhdrs\u001b[49m\u001b[43m)\u001b[49m\n\u001b[32m    637\u001b[39m \u001b[38;5;28;01mreturn\u001b[39;00m response\n",
      "\u001b[36mFile \u001b[39m\u001b[32m/Library/Frameworks/Python.framework/Versions/3.11/lib/python3.11/urllib/request.py:557\u001b[39m, in \u001b[36mOpenerDirector.error\u001b[39m\u001b[34m(self, proto, *args)\u001b[39m\n\u001b[32m    555\u001b[39m     http_err = \u001b[32m0\u001b[39m\n\u001b[32m    556\u001b[39m args = (\u001b[38;5;28mdict\u001b[39m, proto, meth_name) + args\n\u001b[32m--> \u001b[39m\u001b[32m557\u001b[39m result = \u001b[38;5;28;43mself\u001b[39;49m\u001b[43m.\u001b[49m\u001b[43m_call_chain\u001b[49m\u001b[43m(\u001b[49m\u001b[43m*\u001b[49m\u001b[43margs\u001b[49m\u001b[43m)\u001b[49m\n\u001b[32m    558\u001b[39m \u001b[38;5;28;01mif\u001b[39;00m result:\n\u001b[32m    559\u001b[39m     \u001b[38;5;28;01mreturn\u001b[39;00m result\n",
      "\u001b[36mFile \u001b[39m\u001b[32m/Library/Frameworks/Python.framework/Versions/3.11/lib/python3.11/urllib/request.py:496\u001b[39m, in \u001b[36mOpenerDirector._call_chain\u001b[39m\u001b[34m(self, chain, kind, meth_name, *args)\u001b[39m\n\u001b[32m    494\u001b[39m \u001b[38;5;28;01mfor\u001b[39;00m handler \u001b[38;5;129;01min\u001b[39;00m handlers:\n\u001b[32m    495\u001b[39m     func = \u001b[38;5;28mgetattr\u001b[39m(handler, meth_name)\n\u001b[32m--> \u001b[39m\u001b[32m496\u001b[39m     result = \u001b[43mfunc\u001b[49m\u001b[43m(\u001b[49m\u001b[43m*\u001b[49m\u001b[43margs\u001b[49m\u001b[43m)\u001b[49m\n\u001b[32m    497\u001b[39m     \u001b[38;5;28;01mif\u001b[39;00m result \u001b[38;5;129;01mis\u001b[39;00m \u001b[38;5;129;01mnot\u001b[39;00m \u001b[38;5;28;01mNone\u001b[39;00m:\n\u001b[32m    498\u001b[39m         \u001b[38;5;28;01mreturn\u001b[39;00m result\n",
      "\u001b[36mFile \u001b[39m\u001b[32m/Library/Frameworks/Python.framework/Versions/3.11/lib/python3.11/urllib/request.py:749\u001b[39m, in \u001b[36mHTTPRedirectHandler.http_error_302\u001b[39m\u001b[34m(self, req, fp, code, msg, headers)\u001b[39m\n\u001b[32m    746\u001b[39m fp.read()\n\u001b[32m    747\u001b[39m fp.close()\n\u001b[32m--> \u001b[39m\u001b[32m749\u001b[39m \u001b[38;5;28;01mreturn\u001b[39;00m \u001b[38;5;28;43mself\u001b[39;49m\u001b[43m.\u001b[49m\u001b[43mparent\u001b[49m\u001b[43m.\u001b[49m\u001b[43mopen\u001b[49m\u001b[43m(\u001b[49m\u001b[43mnew\u001b[49m\u001b[43m,\u001b[49m\u001b[43m \u001b[49m\u001b[43mtimeout\u001b[49m\u001b[43m=\u001b[49m\u001b[43mreq\u001b[49m\u001b[43m.\u001b[49m\u001b[43mtimeout\u001b[49m\u001b[43m)\u001b[49m\n",
      "\u001b[36mFile \u001b[39m\u001b[32m/Library/Frameworks/Python.framework/Versions/3.11/lib/python3.11/urllib/request.py:519\u001b[39m, in \u001b[36mOpenerDirector.open\u001b[39m\u001b[34m(self, fullurl, data, timeout)\u001b[39m\n\u001b[32m    516\u001b[39m     req = meth(req)\n\u001b[32m    518\u001b[39m sys.audit(\u001b[33m'\u001b[39m\u001b[33murllib.Request\u001b[39m\u001b[33m'\u001b[39m, req.full_url, req.data, req.headers, req.get_method())\n\u001b[32m--> \u001b[39m\u001b[32m519\u001b[39m response = \u001b[38;5;28;43mself\u001b[39;49m\u001b[43m.\u001b[49m\u001b[43m_open\u001b[49m\u001b[43m(\u001b[49m\u001b[43mreq\u001b[49m\u001b[43m,\u001b[49m\u001b[43m \u001b[49m\u001b[43mdata\u001b[49m\u001b[43m)\u001b[49m\n\u001b[32m    521\u001b[39m \u001b[38;5;66;03m# post-process response\u001b[39;00m\n\u001b[32m    522\u001b[39m meth_name = protocol+\u001b[33m\"\u001b[39m\u001b[33m_response\u001b[39m\u001b[33m\"\u001b[39m\n",
      "\u001b[36mFile \u001b[39m\u001b[32m/Library/Frameworks/Python.framework/Versions/3.11/lib/python3.11/urllib/request.py:536\u001b[39m, in \u001b[36mOpenerDirector._open\u001b[39m\u001b[34m(self, req, data)\u001b[39m\n\u001b[32m    533\u001b[39m     \u001b[38;5;28;01mreturn\u001b[39;00m result\n\u001b[32m    535\u001b[39m protocol = req.type\n\u001b[32m--> \u001b[39m\u001b[32m536\u001b[39m result = \u001b[38;5;28;43mself\u001b[39;49m\u001b[43m.\u001b[49m\u001b[43m_call_chain\u001b[49m\u001b[43m(\u001b[49m\u001b[38;5;28;43mself\u001b[39;49m\u001b[43m.\u001b[49m\u001b[43mhandle_open\u001b[49m\u001b[43m,\u001b[49m\u001b[43m \u001b[49m\u001b[43mprotocol\u001b[49m\u001b[43m,\u001b[49m\u001b[43m \u001b[49m\u001b[43mprotocol\u001b[49m\u001b[43m \u001b[49m\u001b[43m+\u001b[49m\n\u001b[32m    537\u001b[39m \u001b[43m                          \u001b[49m\u001b[33;43m'\u001b[39;49m\u001b[33;43m_open\u001b[39;49m\u001b[33;43m'\u001b[39;49m\u001b[43m,\u001b[49m\u001b[43m \u001b[49m\u001b[43mreq\u001b[49m\u001b[43m)\u001b[49m\n\u001b[32m    538\u001b[39m \u001b[38;5;28;01mif\u001b[39;00m result:\n\u001b[32m    539\u001b[39m     \u001b[38;5;28;01mreturn\u001b[39;00m result\n",
      "\u001b[36mFile \u001b[39m\u001b[32m/Library/Frameworks/Python.framework/Versions/3.11/lib/python3.11/urllib/request.py:496\u001b[39m, in \u001b[36mOpenerDirector._call_chain\u001b[39m\u001b[34m(self, chain, kind, meth_name, *args)\u001b[39m\n\u001b[32m    494\u001b[39m \u001b[38;5;28;01mfor\u001b[39;00m handler \u001b[38;5;129;01min\u001b[39;00m handlers:\n\u001b[32m    495\u001b[39m     func = \u001b[38;5;28mgetattr\u001b[39m(handler, meth_name)\n\u001b[32m--> \u001b[39m\u001b[32m496\u001b[39m     result = \u001b[43mfunc\u001b[49m\u001b[43m(\u001b[49m\u001b[43m*\u001b[49m\u001b[43margs\u001b[49m\u001b[43m)\u001b[49m\n\u001b[32m    497\u001b[39m     \u001b[38;5;28;01mif\u001b[39;00m result \u001b[38;5;129;01mis\u001b[39;00m \u001b[38;5;129;01mnot\u001b[39;00m \u001b[38;5;28;01mNone\u001b[39;00m:\n\u001b[32m    498\u001b[39m         \u001b[38;5;28;01mreturn\u001b[39;00m result\n",
      "\u001b[36mFile \u001b[39m\u001b[32m/Library/Frameworks/Python.framework/Versions/3.11/lib/python3.11/urllib/request.py:1391\u001b[39m, in \u001b[36mHTTPSHandler.https_open\u001b[39m\u001b[34m(self, req)\u001b[39m\n\u001b[32m   1390\u001b[39m \u001b[38;5;28;01mdef\u001b[39;00m\u001b[38;5;250m \u001b[39m\u001b[34mhttps_open\u001b[39m(\u001b[38;5;28mself\u001b[39m, req):\n\u001b[32m-> \u001b[39m\u001b[32m1391\u001b[39m     \u001b[38;5;28;01mreturn\u001b[39;00m \u001b[38;5;28;43mself\u001b[39;49m\u001b[43m.\u001b[49m\u001b[43mdo_open\u001b[49m\u001b[43m(\u001b[49m\u001b[43mhttp\u001b[49m\u001b[43m.\u001b[49m\u001b[43mclient\u001b[49m\u001b[43m.\u001b[49m\u001b[43mHTTPSConnection\u001b[49m\u001b[43m,\u001b[49m\u001b[43m \u001b[49m\u001b[43mreq\u001b[49m\u001b[43m,\u001b[49m\n\u001b[32m   1392\u001b[39m \u001b[43m        \u001b[49m\u001b[43mcontext\u001b[49m\u001b[43m=\u001b[49m\u001b[38;5;28;43mself\u001b[39;49m\u001b[43m.\u001b[49m\u001b[43m_context\u001b[49m\u001b[43m,\u001b[49m\u001b[43m \u001b[49m\u001b[43mcheck_hostname\u001b[49m\u001b[43m=\u001b[49m\u001b[38;5;28;43mself\u001b[39;49m\u001b[43m.\u001b[49m\u001b[43m_check_hostname\u001b[49m\u001b[43m)\u001b[49m\n",
      "\u001b[36mFile \u001b[39m\u001b[32m/Library/Frameworks/Python.framework/Versions/3.11/lib/python3.11/urllib/request.py:1351\u001b[39m, in \u001b[36mAbstractHTTPHandler.do_open\u001b[39m\u001b[34m(self, http_class, req, **http_conn_args)\u001b[39m\n\u001b[32m   1348\u001b[39m         h.request(req.get_method(), req.selector, req.data, headers,\n\u001b[32m   1349\u001b[39m                   encode_chunked=req.has_header(\u001b[33m'\u001b[39m\u001b[33mTransfer-encoding\u001b[39m\u001b[33m'\u001b[39m))\n\u001b[32m   1350\u001b[39m     \u001b[38;5;28;01mexcept\u001b[39;00m \u001b[38;5;167;01mOSError\u001b[39;00m \u001b[38;5;28;01mas\u001b[39;00m err: \u001b[38;5;66;03m# timeout error\u001b[39;00m\n\u001b[32m-> \u001b[39m\u001b[32m1351\u001b[39m         \u001b[38;5;28;01mraise\u001b[39;00m URLError(err)\n\u001b[32m   1352\u001b[39m     r = h.getresponse()\n\u001b[32m   1353\u001b[39m \u001b[38;5;28;01mexcept\u001b[39;00m:\n",
      "\u001b[31mURLError\u001b[39m: <urlopen error [SSL: CERTIFICATE_VERIFY_FAILED] certificate verify failed: unable to get local issuer certificate (_ssl.c:1006)>"
     ]
    }
   ],
   "source": [
    "# IMPORTANT: to run this script, you need to enable Internet in Kaggle. Default Kaggle kernels do not have Internet access\n",
    "# Enabling Internet is on the right side of the Settings menu. \n",
    "# If you run this Jupyter Notebook on your own computer, then make sure your computer has Internet access\n",
    "\n",
    "from urllib.request import urlopen\n",
    "import random\n",
    "import time\n",
    "\n",
    "Dictionary10 = dict()\n",
    "Dictionary1000 = dict()\n",
    "DictionaryTotal = dict()\n",
    "file_url = \"http://www.nasdaqtrader.com/dynamic/symdir/nasdaqlisted.txt\"        \n",
    "\n",
    "# Put IO functions in try -- finally\n",
    "print('Reading text file from url ... ', end = ' ')\n",
    "file = urlopen(file_url)\n",
    "\n",
    "# Create three dictionaries of different lengths\n",
    "count = 0\n",
    "for line in file:\n",
    "    decoded_line = line.decode(\"utf-8\")\n",
    "    count += 1\n",
    "    ticker, info = decoded_line.split('|',1)\n",
    "    if count<=10:\n",
    "        Dictionary10[ticker] = info\n",
    "    if count<=1000:\n",
    "        Dictionary1000[ticker] = info\n",
    "    DictionaryTotal[ticker] = info\n",
    "\n",
    "print('done')\n",
    "\n",
    "# Create 1M queries to time the performance of three dictionaries\n",
    "print('Generating 1M random tickers ... ', end = ' ')\n",
    "trial_total = 1000000\n",
    "TICKER_LETTER = 'ABCDEFGHIJKLMNOPQRSTUVWXYZ'\n",
    "search_list = []\n",
    "for index in range(trial_total):\n",
    "    new_random_ticker = ''\n",
    "    for letter_index in range(random.randint(1,5)):\n",
    "        new_random_ticker = new_random_ticker + (random.choice(TICKER_LETTER))\n",
    "\n",
    "    search_list.append(new_random_ticker)\n",
    "print('done')\n",
    "\n",
    "# Test speed for query Dictionary10\n",
    "begin_time = time.time()\n",
    "for index in range(trial_total):\n",
    "    query_result = search_list[index] in Dictionary10\n",
    "elapsed_time = time.time() - begin_time\n",
    "print(\"Searching a size-{0} dictionary 1M times takes: {1}s\".format(len(Dictionary10),\n",
    "    elapsed_time))\n",
    "\n",
    "# Test speed for query Dictionary1000\n",
    "begin_time = time.time()\n",
    "for index in range(trial_total):\n",
    "    query_result = search_list[index] in Dictionary1000\n",
    "elapsed_time = time.time() - begin_time\n",
    "print(\"Searching a size-{0} dictionary 1M times takes: {1}s\".format(len(Dictionary1000),\n",
    "    elapsed_time))\n",
    "\n",
    "# Test speed for query DictionaryTotal\n",
    "begin_time = time.time()\n",
    "for index in range(trial_total):\n",
    "    query_result = search_list[index] in DictionaryTotal\n",
    "elapsed_time = time.time() - begin_time\n",
    "print(\"Searching a size-{0} dictionary 1M times takes: {1}s\".format(len(DictionaryTotal),\n",
    "    elapsed_time))"
   ]
  },
  {
   "cell_type": "markdown",
   "metadata": {},
   "source": [
    "In this sample code, we demonstrated using a new Python function *urlopen()* from the imported module *urllib.request* to retrieve a text file from the Internet. The file \"nasdaqlisted.txt\" is a public file that lists all the companies currently listed on the United States Nasdaq stock exchange. Naturally, for any public company, it has a unique ticker number for trading, such as AAPL for Apple and GOOGL for Google's parent company Alphabet Inc.\n",
    "\n",
    "In the code, we break down each line in the text file to retrieve its ticker string as the key and the rest of the string as the value for one dictionary entry. For comparison purposes, we constructed three dictionaries of different sizes, from 10 entries to 1000 entries to the total 4023 entries.\n",
    "\n",
    "Then we will randomly query 1 million times to check if a random ticker string exists as a key in the three dictionaries. We observe the final results for their total time complexity. We see that regardless of the size of the dictionary, the random 1 million key query roughly costs the same amount of time, which is somewhat counter-intuitive. \n",
    "\n",
    "The constant-time key search algorithm in Python is related to the concept of \"hashable\" that we have mentioned above. We will explain in more details in the next lecture. For now, the good news is regardless of the size of a dictionary, the search for its keys seems to be quite efficient."
   ]
  },
  {
   "cell_type": "markdown",
   "metadata": {},
   "source": [
    "Finally, the sample code below demonstrates how to convert the tuple type and dictionary type variables in Python. The code uses the cast functions *list()* and *dict()*. Grouping two lists of the same length into tuple pairs is by the function *zip()*."
   ]
  },
  {
   "cell_type": "code",
   "execution_count": null,
   "metadata": {
    "execution": {
     "iopub.execute_input": "2022-04-30T23:09:30.509730Z",
     "iopub.status.busy": "2022-04-30T23:09:30.509071Z",
     "iopub.status.idle": "2022-04-30T23:09:30.520548Z",
     "shell.execute_reply": "2022-04-30T23:09:30.519500Z",
     "shell.execute_reply.started": "2022-04-30T23:09:30.509692Z"
    },
    "trusted": true
   },
   "outputs": [],
   "source": [
    "# From list to zip into tuples\n",
    "list1 = [1,  2,  3, 4]\n",
    "list2 = ['one', 'two', 'three', 'four']\n",
    "list3 = ['uno', 'due', 'tre']\n",
    "for pair in zip(list1, list2, list3): print(pair)\n",
    "# (1, 'one', 'uno')\n",
    "# (2, 'two', 'due')\n",
    "# (3, 'three', 'tre')\n",
    "\n",
    "print(\"List of tuples: \", list(zip(list1, list2, list3)))\n",
    "\n",
    "# From tuple to dictionary\n",
    "tuple_list = [(1, 'one'), (2, 'two'), (3, 'three')]\n",
    "D = dict(tuple_list)\n",
    "print(\"Dictionary: \", D)"
   ]
  },
  {
   "cell_type": "markdown",
   "metadata": {},
   "source": [
    "# Exercises"
   ]
  },
  {
   "cell_type": "markdown",
   "metadata": {
    "execution": {
     "iopub.execute_input": "2021-05-28T12:10:26.003097Z",
     "iopub.status.busy": "2021-05-28T12:10:26.002738Z",
     "iopub.status.idle": "2021-05-28T12:10:26.00935Z",
     "shell.execute_reply": "2021-05-28T12:10:26.008289Z",
     "shell.execute_reply.started": "2021-05-28T12:10:26.003065Z"
    },
    "trusted": true
   },
   "source": [
    "## Exercise 1\n",
    "Following the example of my_max() function in the lecture, code another function my_min(), which returns the minimal value from a variable number of input arguments."
   ]
  },
  {
   "cell_type": "code",
   "execution_count": 6,
   "metadata": {},
   "outputs": [
    {
     "name": "stdout",
     "output_type": "stream",
     "text": [
      "2\n",
      "2\n",
      "Input length:  4\n",
      "args =  (1, 5, 3, -9)\n",
      "-9\n"
     ]
    }
   ],
   "source": [
    "print(min(2, 3))\n",
    "print(min(2, 3, 4))\n",
    "\n",
    "def my_min(*args):\n",
    "    print('Input length: ', len(args))\n",
    "    print('args = ', args)\n",
    "    return(min(args))\n",
    "\n",
    "print(my_min(1, 5, 3, -9))"
   ]
  },
  {
   "cell_type": "markdown",
   "metadata": {},
   "source": [
    "## Exercise 2\n",
    "Use type() function to verify the variable type of two assignment values: ('a'), ('a', ). Please discuss the difference."
   ]
  },
  {
   "cell_type": "code",
   "execution_count": 13,
   "metadata": {},
   "outputs": [
    {
     "name": "stdout",
     "output_type": "stream",
     "text": [
      "<class 'str'>\n",
      "<class 'tuple'>\n"
     ]
    }
   ],
   "source": [
    "print(type(('a')))\n",
    "print(type(('a',)))\n",
    "# With parantheses, the second one is read as a tuple. Without parantheses, the string is \n",
    "# read first and the type is read as a string. "
   ]
  },
  {
   "cell_type": "markdown",
   "metadata": {},
   "source": [
    "## Exercise 3\n",
    "Use id() function to code an example, which demonstrates that dictionary is a mutable variable type."
   ]
  },
  {
   "cell_type": "code",
   "execution_count": 16,
   "metadata": {},
   "outputs": [
    {
     "name": "stdout",
     "output_type": "stream",
     "text": [
      "4507008704\n",
      "4507008704\n",
      "4507008704\n"
     ]
    }
   ],
   "source": [
    "my_dict = {1:\"one\", 2:\"two\", 3:\"3\"}\n",
    "print(id(my_dict))\n",
    "del my_dict[2]\n",
    "print(id(my_dict))\n",
    "my_dict[4] = \"fortyy\"\n",
    "print(id(my_dict))\n"
   ]
  },
  {
   "cell_type": "markdown",
   "metadata": {},
   "source": [
    "## Exercise 4\n",
    "Create a simple English-to-Italian dictionary, with the following five (key, value) pairs:\n",
    "> (\"one\", \"uno\"), (\"two\", \"due\"), (\"three\", \"tre\"), (\"four\", \"quattro\"), (\"five\", \"cinque\")\n",
    "\n",
    "    Please code a program that performs the following two functions (can be implemented separately or jointly):\n",
    "    1. When a user inputs an English word from the dictionary keys, output the corresponding value to translate English to Italian.\n",
    "    2. When a user inputs an Italian word from the dictionary values, output the corresponding key to translate Italian to English.\n",
    "    3. In any of the above cases, it the corresponding (key, value) is not found, display a message: Translation is not available."
   ]
  },
  {
   "cell_type": "code",
   "execution_count": 6,
   "metadata": {},
   "outputs": [
    {
     "name": "stdout",
     "output_type": "stream",
     "text": [
      "five\n"
     ]
    }
   ],
   "source": [
    "def getKey(my_list, target):\n",
    "    for key in my_list:\n",
    "        if my_list[key] == target:\n",
    "            return key\n",
    "\n",
    "eng_to_ita = {\"one\":\"uno\", \"two\":\"due\", \"three\":\"tre\", \"four\":\"quattro\", \"five\":\"cinque\"}\n",
    "user_input = input(\"Enter your word to translate: \")\n",
    "if user_input in eng_to_ita.keys():\n",
    "    print(eng_to_ita[user_input])\n",
    "elif user_input in eng_to_ita.values():\n",
    "    print(getKey(eng_to_ita, user_input))\n",
    "else:\n",
    "    print(\"Translation is not available.\")"
   ]
  },
  {
   "cell_type": "markdown",
   "metadata": {},
   "source": [
    "## Exercise 5\n",
    "Although a tuple is an immutable type, sometimes Python may successfully modify values inside a tuple, such as the code below. Explain why?"
   ]
  },
  {
   "cell_type": "code",
   "execution_count": null,
   "metadata": {},
   "outputs": [],
   "source": [
    "# This is because there is a mutable list inside the tuple."
   ]
  },
  {
   "cell_type": "markdown",
   "metadata": {},
   "source": [
    "## Exercise 6\n",
    "Debug:"
   ]
  },
  {
   "cell_type": "code",
   "execution_count": 17,
   "metadata": {},
   "outputs": [
    {
     "name": "stdout",
     "output_type": "stream",
     "text": [
      "(0.11, [3, 35], 20, [40, 45], 50)\n"
     ]
    }
   ],
   "source": [
    "T = (0.11, [30, 35], 20, [40,45], 50)\n",
    "T[1][0] = 3\n",
    "print(T)"
   ]
  },
  {
   "cell_type": "markdown",
   "metadata": {},
   "source": [
    "# Challenges"
   ]
  },
  {
   "cell_type": "markdown",
   "metadata": {},
   "source": [
    "## Challenge 1\n",
    "Take the same text input:\n",
    ">text = 'We can know only that we know nothing. And that is the highest degree of human wisdom.' # From War and Peace\n",
    "\n",
    "    Now use a dictionary type to construct a histogram. Each key in the dictionary is a unique word in the text string by identifying upper case and lower case letters, and the corresponding value is the count of occurrence in the text. For example, \"we\" is a valid key phrase from the text, and its occurrence value in the histogram is 2. Similarly, the histogram value for \"that\" is also two. Hint: Use string.split() to split a string into words separated by spaces. Use string.lower() to convert all words to lower cases, and remember to ignore symbols from the text as they are not counted as words."
   ]
  },
  {
   "cell_type": "code",
   "execution_count": null,
   "metadata": {},
   "outputs": [
    {
     "name": "stdout",
     "output_type": "stream",
     "text": [
      "we can know only that and is the highest degree of human wisdom \n",
      "2 1 2 1 2 1 1 1 1 1 1 1 1 \n"
     ]
    }
   ],
   "source": [
    " # Build a histogram dictionary\n",
    "histogram = dict()\n",
    "text = 'We can know only that we know nothing. And that is the highest degree of human wisdom'\n",
    "text_list = text.split()\n",
    "\n",
    "for c in text_list:\n",
    "    if c.isalpha():\n",
    "        c = c.lower()\n",
    "        if c in histogram:\n",
    "            histogram[c] += 1\n",
    "        else:\n",
    "            histogram[c] = 1\n",
    "\n",
    "# print out the histogram\n",
    "for key in histogram:\n",
    "    print(key, end = ' ')\n",
    "print()\n",
    "for key in histogram:\n",
    "    print(histogram[key], end = ' ')\n",
    "print()\n",
    "\n",
    "\n"
   ]
  },
  {
   "cell_type": "code",
   "execution_count": null,
   "metadata": {},
   "outputs": [],
   "source": [
    "for symbol in string.punctuation:\n",
    "    text = text.replace(symbol,'')"
   ]
  }
 ],
 "metadata": {
  "kernelspec": {
   "display_name": ".venv",
   "language": "python",
   "name": "python3"
  },
  "language_info": {
   "codemirror_mode": {
    "name": "ipython",
    "version": 3
   },
   "file_extension": ".py",
   "mimetype": "text/x-python",
   "name": "python",
   "nbconvert_exporter": "python",
   "pygments_lexer": "ipython3",
   "version": "3.11.9"
  }
 },
 "nbformat": 4,
 "nbformat_minor": 4
}
