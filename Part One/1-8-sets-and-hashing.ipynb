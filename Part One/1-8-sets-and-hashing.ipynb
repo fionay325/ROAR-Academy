{
 "cells": [
  {
   "cell_type": "markdown",
   "metadata": {},
   "source": [
    "**Learning Python -- The Programming Language for Artificial Intelligence and Data Science**\n",
    "\n",
    "**Lecture 8: Sets and Hashing**\n",
    "\n",
    "**By Allen Y. Yang, PhD**\n",
    "\n",
    "(c) Copyright Intelligent Racing Inc., 2021-2024. All rights reserved. Materials may NOT be distributed or used for any commercial purposes.\n"
   ]
  },
  {
   "cell_type": "markdown",
   "metadata": {},
   "source": [
    "# Keywords\n",
    "\n",
    "* **set**: Keyword for the set data type in Python. A set variable may contain from empty set to multiple set elements, where every element must be unique in its value in the set.\n",
    "* **Subset**: A subset of a set contains exclusively a portion of the set's elements, and hence the subset cannot contain any elements that are not in the set.\n",
    "* **Superset**: The set with respect to its subset in the above definition is also called a superset. In other words, a superset of a set must contain all the elements in the set.\n",
    "* **Hashing**: Hashing refers to a calculation by a hash function that maps an object to a fixed value.\n",
    "* **MD5**: A popular hash function that generates 128-bit hash value, also known as Message-Digest algorithm version 5."
   ]
  },
  {
   "cell_type": "markdown",
   "metadata": {},
   "source": [
    "# Definition\n",
    "\n",
    "A set is a collection of unique elements. Elements in a set act just like keys in a dictionary but without the (key, value) correspondence.\n",
    "\n",
    "Also both dictionary and set are mutable types. Therefore, updating a set or a dictionary by adding or removing elements or entries, respectively, does not force Python to create new objects."
   ]
  },
  {
   "cell_type": "code",
   "execution_count": 1,
   "metadata": {
    "execution": {
     "iopub.execute_input": "2021-06-28T02:40:13.591515Z",
     "iopub.status.busy": "2021-06-28T02:40:13.591071Z",
     "iopub.status.idle": "2021-06-28T02:40:13.601129Z",
     "shell.execute_reply": "2021-06-28T02:40:13.599407Z",
     "shell.execute_reply.started": "2021-06-28T02:40:13.59149Z"
    },
    "trusted": true
   },
   "outputs": [
    {
     "name": "stdout",
     "output_type": "stream",
     "text": [
      "{'three'}\n",
      "{'three', 'r', 'e', 't', 'h'}\n",
      "three, r, e, t, h, \n",
      "True\n"
     ]
    }
   ],
   "source": [
    "D = {}  # Important note, a pair of brackets is reserved to define an empty dictionary\n",
    "D[1] = 'one'\n",
    "\n",
    "S = set()  # Define an empty set used set() function\n",
    "S.add('three')      # add one element\n",
    "print(S)\n",
    "S.update(['t','h','r','e','e'])   # Extend a set with another set\n",
    "print(S)\n",
    "\n",
    "for element in S:\n",
    "    print(element, end = ', ')\n",
    "    \n",
    "print()\n",
    "print('e' in S)  # Search if an element exists in a set"
   ]
  },
  {
   "cell_type": "markdown",
   "metadata": {},
   "source": [
    "We see from the above example, that when elements are added into a set, its ordering is not defined in Python, namely, Python may store the elements in any particular order depending on the implementation. A user should not assume any particular order when using a *for* loop to enumerate its elements.\n",
    "\n",
    "Also pay attention to the result of *S.update('three')*. First *update()* function extends a set by adding another set or equivalent list or string. In the example, because set elements are required to be unique, so the two 'e' letters only appear once in the result after the set updates.\n",
    "\n",
    "In the last sample code, the operator *in* returns a boolean to verify if a variable value is in the set of elements. If the value is equal to one of the set elements, then the result is True; and vice versa."
   ]
  },
  {
   "cell_type": "markdown",
   "metadata": {},
   "source": [
    "The following code shows removing an element of a set. \n",
    "    * remove() method will enforce that the intended value for removal must exist in the set. If the value is not in the set, the function will return a runtime error, such as the last statement in the sample code below.\n",
    "    * discard() method behaves the same as remove(), except that it does not enforce that the removal value must be in the set. In such cases, discard() simply ignores the operation without raising any messages."
   ]
  },
  {
   "cell_type": "code",
   "execution_count": 2,
   "metadata": {
    "execution": {
     "iopub.execute_input": "2021-06-28T02:43:28.430327Z",
     "iopub.status.busy": "2021-06-28T02:43:28.430041Z",
     "iopub.status.idle": "2021-06-28T02:43:28.461224Z",
     "shell.execute_reply": "2021-06-28T02:43:28.459895Z",
     "shell.execute_reply.started": "2021-06-28T02:43:28.430302Z"
    },
    "trusted": true
   },
   "outputs": [
    {
     "name": "stdout",
     "output_type": "stream",
     "text": [
      "{'three', 'e', 'r', 'h'}\n"
     ]
    },
    {
     "ename": "KeyError",
     "evalue": "'t'",
     "output_type": "error",
     "traceback": [
      "\u001b[31m---------------------------------------------------------------------------\u001b[39m",
      "\u001b[31mKeyError\u001b[39m                                  Traceback (most recent call last)",
      "\u001b[36mCell\u001b[39m\u001b[36m \u001b[39m\u001b[32mIn[2]\u001b[39m\u001b[32m, line 6\u001b[39m\n\u001b[32m      3\u001b[39m S.discard(\u001b[33m'\u001b[39m\u001b[33mt\u001b[39m\u001b[33m'\u001b[39m)\n\u001b[32m      4\u001b[39m \u001b[38;5;28mprint\u001b[39m(S)\n\u001b[32m----> \u001b[39m\u001b[32m6\u001b[39m \u001b[43mS\u001b[49m\u001b[43m.\u001b[49m\u001b[43mremove\u001b[49m\u001b[43m(\u001b[49m\u001b[33;43m'\u001b[39;49m\u001b[33;43mt\u001b[39;49m\u001b[33;43m'\u001b[39;49m\u001b[43m)\u001b[49m\n",
      "\u001b[31mKeyError\u001b[39m: 't'"
     ]
    }
   ],
   "source": [
    "S = {'h', 't', 'three', 'e', 'r'}\n",
    "S.discard('two')\n",
    "S.discard('t')\n",
    "print(S)\n",
    "\n",
    "S.remove('t')"
   ]
  },
  {
   "cell_type": "markdown",
   "metadata": {},
   "source": [
    "# Set Operations\n",
    "\n",
    "    * Union: s | t, or s.union(t).\n",
    "    * Intersection: s & t, or s.intersection(t).\n",
    "    * Difference: s - t, or s.difference(t).\n",
    "    * Exclusive Or (XOR): s ^ t, or s.symmetric_difference(t)\n",
    "    * Is superset: s.issuperset(t)\n",
    "    * Is subset: s.issubset(t)\n",
    "    \n",
    "Note: XOR takes exclusive elements not in the intersection of the two sets."
   ]
  },
  {
   "cell_type": "code",
   "execution_count": 3,
   "metadata": {
    "execution": {
     "iopub.execute_input": "2021-06-28T02:48:02.715684Z",
     "iopub.status.busy": "2021-06-28T02:48:02.715409Z",
     "iopub.status.idle": "2021-06-28T02:48:02.725594Z",
     "shell.execute_reply": "2021-06-28T02:48:02.724594Z",
     "shell.execute_reply.started": "2021-06-28T02:48:02.71566Z"
    },
    "trusted": true
   },
   "outputs": [
    {
     "name": "stdout",
     "output_type": "stream",
     "text": [
      "Union:  {1, 2, 3, 4, 5, 6}\n",
      "Intersection:  {3, 4}\n",
      "Difference:  {1, 2}\n",
      "XOR:  {1, 2, 5, 6}\n",
      "True\n",
      "False\n"
     ]
    }
   ],
   "source": [
    "s = {1, 2, 3, 4}; t = {3, 4, 5, 6}\n",
    "\n",
    "u = s | t\n",
    "print(\"Union: \", u)\n",
    "print(\"Intersection: \", s & t)\n",
    "print(\"Difference: \", s - t)\n",
    "\n",
    "xor = s^t\n",
    "print(\"XOR: \", xor)\n",
    "\n",
    "print(u.issuperset(s))\n",
    "print(xor.issubset(s))"
   ]
  },
  {
   "cell_type": "markdown",
   "metadata": {},
   "source": [
    "# Hashing\n",
    "\n",
    "Another similarity between dictionary and set is that searching elements in a set is very efficients, close to a constant-time operation regardless of the length of the set. The fundamental algorithm to achieve near constant-time search performance is using *hashing* techniques.\n",
    "\n",
    "First, let us revise the dictionary search example in the last lecture to use the set structure:"
   ]
  },
  {
   "cell_type": "code",
   "execution_count": 4,
   "metadata": {
    "execution": {
     "iopub.execute_input": "2021-06-28T02:54:00.708102Z",
     "iopub.status.busy": "2021-06-28T02:54:00.707736Z",
     "iopub.status.idle": "2021-06-28T02:54:06.309084Z",
     "shell.execute_reply": "2021-06-28T02:54:06.307637Z",
     "shell.execute_reply.started": "2021-06-28T02:54:00.708071Z"
    },
    "trusted": true
   },
   "outputs": [
    {
     "name": "stdout",
     "output_type": "stream",
     "text": [
      "Reading text file from url ...  "
     ]
    },
    {
     "ename": "URLError",
     "evalue": "<urlopen error [SSL: CERTIFICATE_VERIFY_FAILED] certificate verify failed: unable to get local issuer certificate (_ssl.c:1006)>",
     "output_type": "error",
     "traceback": [
      "\u001b[31m---------------------------------------------------------------------------\u001b[39m",
      "\u001b[31mSSLCertVerificationError\u001b[39m                  Traceback (most recent call last)",
      "\u001b[36mFile \u001b[39m\u001b[32m/Library/Frameworks/Python.framework/Versions/3.11/lib/python3.11/urllib/request.py:1348\u001b[39m, in \u001b[36mAbstractHTTPHandler.do_open\u001b[39m\u001b[34m(self, http_class, req, **http_conn_args)\u001b[39m\n\u001b[32m   1347\u001b[39m \u001b[38;5;28;01mtry\u001b[39;00m:\n\u001b[32m-> \u001b[39m\u001b[32m1348\u001b[39m     \u001b[43mh\u001b[49m\u001b[43m.\u001b[49m\u001b[43mrequest\u001b[49m\u001b[43m(\u001b[49m\u001b[43mreq\u001b[49m\u001b[43m.\u001b[49m\u001b[43mget_method\u001b[49m\u001b[43m(\u001b[49m\u001b[43m)\u001b[49m\u001b[43m,\u001b[49m\u001b[43m \u001b[49m\u001b[43mreq\u001b[49m\u001b[43m.\u001b[49m\u001b[43mselector\u001b[49m\u001b[43m,\u001b[49m\u001b[43m \u001b[49m\u001b[43mreq\u001b[49m\u001b[43m.\u001b[49m\u001b[43mdata\u001b[49m\u001b[43m,\u001b[49m\u001b[43m \u001b[49m\u001b[43mheaders\u001b[49m\u001b[43m,\u001b[49m\n\u001b[32m   1349\u001b[39m \u001b[43m              \u001b[49m\u001b[43mencode_chunked\u001b[49m\u001b[43m=\u001b[49m\u001b[43mreq\u001b[49m\u001b[43m.\u001b[49m\u001b[43mhas_header\u001b[49m\u001b[43m(\u001b[49m\u001b[33;43m'\u001b[39;49m\u001b[33;43mTransfer-encoding\u001b[39;49m\u001b[33;43m'\u001b[39;49m\u001b[43m)\u001b[49m\u001b[43m)\u001b[49m\n\u001b[32m   1350\u001b[39m \u001b[38;5;28;01mexcept\u001b[39;00m \u001b[38;5;167;01mOSError\u001b[39;00m \u001b[38;5;28;01mas\u001b[39;00m err: \u001b[38;5;66;03m# timeout error\u001b[39;00m\n",
      "\u001b[36mFile \u001b[39m\u001b[32m/Library/Frameworks/Python.framework/Versions/3.11/lib/python3.11/http/client.py:1303\u001b[39m, in \u001b[36mHTTPConnection.request\u001b[39m\u001b[34m(self, method, url, body, headers, encode_chunked)\u001b[39m\n\u001b[32m   1302\u001b[39m \u001b[38;5;250m\u001b[39m\u001b[33;03m\"\"\"Send a complete request to the server.\"\"\"\u001b[39;00m\n\u001b[32m-> \u001b[39m\u001b[32m1303\u001b[39m \u001b[38;5;28;43mself\u001b[39;49m\u001b[43m.\u001b[49m\u001b[43m_send_request\u001b[49m\u001b[43m(\u001b[49m\u001b[43mmethod\u001b[49m\u001b[43m,\u001b[49m\u001b[43m \u001b[49m\u001b[43murl\u001b[49m\u001b[43m,\u001b[49m\u001b[43m \u001b[49m\u001b[43mbody\u001b[49m\u001b[43m,\u001b[49m\u001b[43m \u001b[49m\u001b[43mheaders\u001b[49m\u001b[43m,\u001b[49m\u001b[43m \u001b[49m\u001b[43mencode_chunked\u001b[49m\u001b[43m)\u001b[49m\n",
      "\u001b[36mFile \u001b[39m\u001b[32m/Library/Frameworks/Python.framework/Versions/3.11/lib/python3.11/http/client.py:1349\u001b[39m, in \u001b[36mHTTPConnection._send_request\u001b[39m\u001b[34m(self, method, url, body, headers, encode_chunked)\u001b[39m\n\u001b[32m   1348\u001b[39m     body = _encode(body, \u001b[33m'\u001b[39m\u001b[33mbody\u001b[39m\u001b[33m'\u001b[39m)\n\u001b[32m-> \u001b[39m\u001b[32m1349\u001b[39m \u001b[38;5;28;43mself\u001b[39;49m\u001b[43m.\u001b[49m\u001b[43mendheaders\u001b[49m\u001b[43m(\u001b[49m\u001b[43mbody\u001b[49m\u001b[43m,\u001b[49m\u001b[43m \u001b[49m\u001b[43mencode_chunked\u001b[49m\u001b[43m=\u001b[49m\u001b[43mencode_chunked\u001b[49m\u001b[43m)\u001b[49m\n",
      "\u001b[36mFile \u001b[39m\u001b[32m/Library/Frameworks/Python.framework/Versions/3.11/lib/python3.11/http/client.py:1298\u001b[39m, in \u001b[36mHTTPConnection.endheaders\u001b[39m\u001b[34m(self, message_body, encode_chunked)\u001b[39m\n\u001b[32m   1297\u001b[39m     \u001b[38;5;28;01mraise\u001b[39;00m CannotSendHeader()\n\u001b[32m-> \u001b[39m\u001b[32m1298\u001b[39m \u001b[38;5;28;43mself\u001b[39;49m\u001b[43m.\u001b[49m\u001b[43m_send_output\u001b[49m\u001b[43m(\u001b[49m\u001b[43mmessage_body\u001b[49m\u001b[43m,\u001b[49m\u001b[43m \u001b[49m\u001b[43mencode_chunked\u001b[49m\u001b[43m=\u001b[49m\u001b[43mencode_chunked\u001b[49m\u001b[43m)\u001b[49m\n",
      "\u001b[36mFile \u001b[39m\u001b[32m/Library/Frameworks/Python.framework/Versions/3.11/lib/python3.11/http/client.py:1058\u001b[39m, in \u001b[36mHTTPConnection._send_output\u001b[39m\u001b[34m(self, message_body, encode_chunked)\u001b[39m\n\u001b[32m   1057\u001b[39m \u001b[38;5;28;01mdel\u001b[39;00m \u001b[38;5;28mself\u001b[39m._buffer[:]\n\u001b[32m-> \u001b[39m\u001b[32m1058\u001b[39m \u001b[38;5;28;43mself\u001b[39;49m\u001b[43m.\u001b[49m\u001b[43msend\u001b[49m\u001b[43m(\u001b[49m\u001b[43mmsg\u001b[49m\u001b[43m)\u001b[49m\n\u001b[32m   1060\u001b[39m \u001b[38;5;28;01mif\u001b[39;00m message_body \u001b[38;5;129;01mis\u001b[39;00m \u001b[38;5;129;01mnot\u001b[39;00m \u001b[38;5;28;01mNone\u001b[39;00m:\n\u001b[32m   1061\u001b[39m \n\u001b[32m   1062\u001b[39m     \u001b[38;5;66;03m# create a consistent interface to message_body\u001b[39;00m\n",
      "\u001b[36mFile \u001b[39m\u001b[32m/Library/Frameworks/Python.framework/Versions/3.11/lib/python3.11/http/client.py:996\u001b[39m, in \u001b[36mHTTPConnection.send\u001b[39m\u001b[34m(self, data)\u001b[39m\n\u001b[32m    995\u001b[39m \u001b[38;5;28;01mif\u001b[39;00m \u001b[38;5;28mself\u001b[39m.auto_open:\n\u001b[32m--> \u001b[39m\u001b[32m996\u001b[39m     \u001b[38;5;28;43mself\u001b[39;49m\u001b[43m.\u001b[49m\u001b[43mconnect\u001b[49m\u001b[43m(\u001b[49m\u001b[43m)\u001b[49m\n\u001b[32m    997\u001b[39m \u001b[38;5;28;01melse\u001b[39;00m:\n",
      "\u001b[36mFile \u001b[39m\u001b[32m/Library/Frameworks/Python.framework/Versions/3.11/lib/python3.11/http/client.py:1475\u001b[39m, in \u001b[36mHTTPSConnection.connect\u001b[39m\u001b[34m(self)\u001b[39m\n\u001b[32m   1473\u001b[39m     server_hostname = \u001b[38;5;28mself\u001b[39m.host\n\u001b[32m-> \u001b[39m\u001b[32m1475\u001b[39m \u001b[38;5;28mself\u001b[39m.sock = \u001b[38;5;28;43mself\u001b[39;49m\u001b[43m.\u001b[49m\u001b[43m_context\u001b[49m\u001b[43m.\u001b[49m\u001b[43mwrap_socket\u001b[49m\u001b[43m(\u001b[49m\u001b[38;5;28;43mself\u001b[39;49m\u001b[43m.\u001b[49m\u001b[43msock\u001b[49m\u001b[43m,\u001b[49m\n\u001b[32m   1476\u001b[39m \u001b[43m                                      \u001b[49m\u001b[43mserver_hostname\u001b[49m\u001b[43m=\u001b[49m\u001b[43mserver_hostname\u001b[49m\u001b[43m)\u001b[49m\n",
      "\u001b[36mFile \u001b[39m\u001b[32m/Library/Frameworks/Python.framework/Versions/3.11/lib/python3.11/ssl.py:517\u001b[39m, in \u001b[36mSSLContext.wrap_socket\u001b[39m\u001b[34m(self, sock, server_side, do_handshake_on_connect, suppress_ragged_eofs, server_hostname, session)\u001b[39m\n\u001b[32m    511\u001b[39m \u001b[38;5;28;01mdef\u001b[39;00m\u001b[38;5;250m \u001b[39m\u001b[34mwrap_socket\u001b[39m(\u001b[38;5;28mself\u001b[39m, sock, server_side=\u001b[38;5;28;01mFalse\u001b[39;00m,\n\u001b[32m    512\u001b[39m                 do_handshake_on_connect=\u001b[38;5;28;01mTrue\u001b[39;00m,\n\u001b[32m    513\u001b[39m                 suppress_ragged_eofs=\u001b[38;5;28;01mTrue\u001b[39;00m,\n\u001b[32m    514\u001b[39m                 server_hostname=\u001b[38;5;28;01mNone\u001b[39;00m, session=\u001b[38;5;28;01mNone\u001b[39;00m):\n\u001b[32m    515\u001b[39m     \u001b[38;5;66;03m# SSLSocket class handles server_hostname encoding before it calls\u001b[39;00m\n\u001b[32m    516\u001b[39m     \u001b[38;5;66;03m# ctx._wrap_socket()\u001b[39;00m\n\u001b[32m--> \u001b[39m\u001b[32m517\u001b[39m     \u001b[38;5;28;01mreturn\u001b[39;00m \u001b[38;5;28;43mself\u001b[39;49m\u001b[43m.\u001b[49m\u001b[43msslsocket_class\u001b[49m\u001b[43m.\u001b[49m\u001b[43m_create\u001b[49m\u001b[43m(\u001b[49m\n\u001b[32m    518\u001b[39m \u001b[43m        \u001b[49m\u001b[43msock\u001b[49m\u001b[43m=\u001b[49m\u001b[43msock\u001b[49m\u001b[43m,\u001b[49m\n\u001b[32m    519\u001b[39m \u001b[43m        \u001b[49m\u001b[43mserver_side\u001b[49m\u001b[43m=\u001b[49m\u001b[43mserver_side\u001b[49m\u001b[43m,\u001b[49m\n\u001b[32m    520\u001b[39m \u001b[43m        \u001b[49m\u001b[43mdo_handshake_on_connect\u001b[49m\u001b[43m=\u001b[49m\u001b[43mdo_handshake_on_connect\u001b[49m\u001b[43m,\u001b[49m\n\u001b[32m    521\u001b[39m \u001b[43m        \u001b[49m\u001b[43msuppress_ragged_eofs\u001b[49m\u001b[43m=\u001b[49m\u001b[43msuppress_ragged_eofs\u001b[49m\u001b[43m,\u001b[49m\n\u001b[32m    522\u001b[39m \u001b[43m        \u001b[49m\u001b[43mserver_hostname\u001b[49m\u001b[43m=\u001b[49m\u001b[43mserver_hostname\u001b[49m\u001b[43m,\u001b[49m\n\u001b[32m    523\u001b[39m \u001b[43m        \u001b[49m\u001b[43mcontext\u001b[49m\u001b[43m=\u001b[49m\u001b[38;5;28;43mself\u001b[39;49m\u001b[43m,\u001b[49m\n\u001b[32m    524\u001b[39m \u001b[43m        \u001b[49m\u001b[43msession\u001b[49m\u001b[43m=\u001b[49m\u001b[43msession\u001b[49m\n\u001b[32m    525\u001b[39m \u001b[43m    \u001b[49m\u001b[43m)\u001b[49m\n",
      "\u001b[36mFile \u001b[39m\u001b[32m/Library/Frameworks/Python.framework/Versions/3.11/lib/python3.11/ssl.py:1104\u001b[39m, in \u001b[36mSSLSocket._create\u001b[39m\u001b[34m(cls, sock, server_side, do_handshake_on_connect, suppress_ragged_eofs, server_hostname, context, session)\u001b[39m\n\u001b[32m   1103\u001b[39m                 \u001b[38;5;28;01mraise\u001b[39;00m \u001b[38;5;167;01mValueError\u001b[39;00m(\u001b[33m\"\u001b[39m\u001b[33mdo_handshake_on_connect should not be specified for non-blocking sockets\u001b[39m\u001b[33m\"\u001b[39m)\n\u001b[32m-> \u001b[39m\u001b[32m1104\u001b[39m             \u001b[38;5;28;43mself\u001b[39;49m\u001b[43m.\u001b[49m\u001b[43mdo_handshake\u001b[49m\u001b[43m(\u001b[49m\u001b[43m)\u001b[49m\n\u001b[32m   1105\u001b[39m \u001b[38;5;28;01mexcept\u001b[39;00m:\n",
      "\u001b[36mFile \u001b[39m\u001b[32m/Library/Frameworks/Python.framework/Versions/3.11/lib/python3.11/ssl.py:1382\u001b[39m, in \u001b[36mSSLSocket.do_handshake\u001b[39m\u001b[34m(self, block)\u001b[39m\n\u001b[32m   1381\u001b[39m         \u001b[38;5;28mself\u001b[39m.settimeout(\u001b[38;5;28;01mNone\u001b[39;00m)\n\u001b[32m-> \u001b[39m\u001b[32m1382\u001b[39m     \u001b[38;5;28;43mself\u001b[39;49m\u001b[43m.\u001b[49m\u001b[43m_sslobj\u001b[49m\u001b[43m.\u001b[49m\u001b[43mdo_handshake\u001b[49m\u001b[43m(\u001b[49m\u001b[43m)\u001b[49m\n\u001b[32m   1383\u001b[39m \u001b[38;5;28;01mfinally\u001b[39;00m:\n",
      "\u001b[31mSSLCertVerificationError\u001b[39m: [SSL: CERTIFICATE_VERIFY_FAILED] certificate verify failed: unable to get local issuer certificate (_ssl.c:1006)",
      "\nDuring handling of the above exception, another exception occurred:\n",
      "\u001b[31mURLError\u001b[39m                                  Traceback (most recent call last)",
      "\u001b[36mCell\u001b[39m\u001b[36m \u001b[39m\u001b[32mIn[4]\u001b[39m\u001b[32m, line 16\u001b[39m\n\u001b[32m     14\u001b[39m \u001b[38;5;66;03m# Put IO functions in try -- finally\u001b[39;00m\n\u001b[32m     15\u001b[39m \u001b[38;5;28mprint\u001b[39m(\u001b[33m'\u001b[39m\u001b[33mReading text file from url ... \u001b[39m\u001b[33m'\u001b[39m, end = \u001b[33m'\u001b[39m\u001b[33m \u001b[39m\u001b[33m'\u001b[39m)\n\u001b[32m---> \u001b[39m\u001b[32m16\u001b[39m file = \u001b[43murlopen\u001b[49m\u001b[43m(\u001b[49m\u001b[43mfile_url\u001b[49m\u001b[43m)\u001b[49m\n\u001b[32m     18\u001b[39m \u001b[38;5;66;03m# Create three dictionaries of different lengths\u001b[39;00m\n\u001b[32m     19\u001b[39m count = \u001b[32m0\u001b[39m\n",
      "\u001b[36mFile \u001b[39m\u001b[32m/Library/Frameworks/Python.framework/Versions/3.11/lib/python3.11/urllib/request.py:216\u001b[39m, in \u001b[36murlopen\u001b[39m\u001b[34m(url, data, timeout, cafile, capath, cadefault, context)\u001b[39m\n\u001b[32m    214\u001b[39m \u001b[38;5;28;01melse\u001b[39;00m:\n\u001b[32m    215\u001b[39m     opener = _opener\n\u001b[32m--> \u001b[39m\u001b[32m216\u001b[39m \u001b[38;5;28;01mreturn\u001b[39;00m \u001b[43mopener\u001b[49m\u001b[43m.\u001b[49m\u001b[43mopen\u001b[49m\u001b[43m(\u001b[49m\u001b[43murl\u001b[49m\u001b[43m,\u001b[49m\u001b[43m \u001b[49m\u001b[43mdata\u001b[49m\u001b[43m,\u001b[49m\u001b[43m \u001b[49m\u001b[43mtimeout\u001b[49m\u001b[43m)\u001b[49m\n",
      "\u001b[36mFile \u001b[39m\u001b[32m/Library/Frameworks/Python.framework/Versions/3.11/lib/python3.11/urllib/request.py:525\u001b[39m, in \u001b[36mOpenerDirector.open\u001b[39m\u001b[34m(self, fullurl, data, timeout)\u001b[39m\n\u001b[32m    523\u001b[39m \u001b[38;5;28;01mfor\u001b[39;00m processor \u001b[38;5;129;01min\u001b[39;00m \u001b[38;5;28mself\u001b[39m.process_response.get(protocol, []):\n\u001b[32m    524\u001b[39m     meth = \u001b[38;5;28mgetattr\u001b[39m(processor, meth_name)\n\u001b[32m--> \u001b[39m\u001b[32m525\u001b[39m     response = \u001b[43mmeth\u001b[49m\u001b[43m(\u001b[49m\u001b[43mreq\u001b[49m\u001b[43m,\u001b[49m\u001b[43m \u001b[49m\u001b[43mresponse\u001b[49m\u001b[43m)\u001b[49m\n\u001b[32m    527\u001b[39m \u001b[38;5;28;01mreturn\u001b[39;00m response\n",
      "\u001b[36mFile \u001b[39m\u001b[32m/Library/Frameworks/Python.framework/Versions/3.11/lib/python3.11/urllib/request.py:634\u001b[39m, in \u001b[36mHTTPErrorProcessor.http_response\u001b[39m\u001b[34m(self, request, response)\u001b[39m\n\u001b[32m    631\u001b[39m \u001b[38;5;66;03m# According to RFC 2616, \"2xx\" code indicates that the client's\u001b[39;00m\n\u001b[32m    632\u001b[39m \u001b[38;5;66;03m# request was successfully received, understood, and accepted.\u001b[39;00m\n\u001b[32m    633\u001b[39m \u001b[38;5;28;01mif\u001b[39;00m \u001b[38;5;129;01mnot\u001b[39;00m (\u001b[32m200\u001b[39m <= code < \u001b[32m300\u001b[39m):\n\u001b[32m--> \u001b[39m\u001b[32m634\u001b[39m     response = \u001b[38;5;28;43mself\u001b[39;49m\u001b[43m.\u001b[49m\u001b[43mparent\u001b[49m\u001b[43m.\u001b[49m\u001b[43merror\u001b[49m\u001b[43m(\u001b[49m\n\u001b[32m    635\u001b[39m \u001b[43m        \u001b[49m\u001b[33;43m'\u001b[39;49m\u001b[33;43mhttp\u001b[39;49m\u001b[33;43m'\u001b[39;49m\u001b[43m,\u001b[49m\u001b[43m \u001b[49m\u001b[43mrequest\u001b[49m\u001b[43m,\u001b[49m\u001b[43m \u001b[49m\u001b[43mresponse\u001b[49m\u001b[43m,\u001b[49m\u001b[43m \u001b[49m\u001b[43mcode\u001b[49m\u001b[43m,\u001b[49m\u001b[43m \u001b[49m\u001b[43mmsg\u001b[49m\u001b[43m,\u001b[49m\u001b[43m \u001b[49m\u001b[43mhdrs\u001b[49m\u001b[43m)\u001b[49m\n\u001b[32m    637\u001b[39m \u001b[38;5;28;01mreturn\u001b[39;00m response\n",
      "\u001b[36mFile \u001b[39m\u001b[32m/Library/Frameworks/Python.framework/Versions/3.11/lib/python3.11/urllib/request.py:557\u001b[39m, in \u001b[36mOpenerDirector.error\u001b[39m\u001b[34m(self, proto, *args)\u001b[39m\n\u001b[32m    555\u001b[39m     http_err = \u001b[32m0\u001b[39m\n\u001b[32m    556\u001b[39m args = (\u001b[38;5;28mdict\u001b[39m, proto, meth_name) + args\n\u001b[32m--> \u001b[39m\u001b[32m557\u001b[39m result = \u001b[38;5;28;43mself\u001b[39;49m\u001b[43m.\u001b[49m\u001b[43m_call_chain\u001b[49m\u001b[43m(\u001b[49m\u001b[43m*\u001b[49m\u001b[43margs\u001b[49m\u001b[43m)\u001b[49m\n\u001b[32m    558\u001b[39m \u001b[38;5;28;01mif\u001b[39;00m result:\n\u001b[32m    559\u001b[39m     \u001b[38;5;28;01mreturn\u001b[39;00m result\n",
      "\u001b[36mFile \u001b[39m\u001b[32m/Library/Frameworks/Python.framework/Versions/3.11/lib/python3.11/urllib/request.py:496\u001b[39m, in \u001b[36mOpenerDirector._call_chain\u001b[39m\u001b[34m(self, chain, kind, meth_name, *args)\u001b[39m\n\u001b[32m    494\u001b[39m \u001b[38;5;28;01mfor\u001b[39;00m handler \u001b[38;5;129;01min\u001b[39;00m handlers:\n\u001b[32m    495\u001b[39m     func = \u001b[38;5;28mgetattr\u001b[39m(handler, meth_name)\n\u001b[32m--> \u001b[39m\u001b[32m496\u001b[39m     result = \u001b[43mfunc\u001b[49m\u001b[43m(\u001b[49m\u001b[43m*\u001b[49m\u001b[43margs\u001b[49m\u001b[43m)\u001b[49m\n\u001b[32m    497\u001b[39m     \u001b[38;5;28;01mif\u001b[39;00m result \u001b[38;5;129;01mis\u001b[39;00m \u001b[38;5;129;01mnot\u001b[39;00m \u001b[38;5;28;01mNone\u001b[39;00m:\n\u001b[32m    498\u001b[39m         \u001b[38;5;28;01mreturn\u001b[39;00m result\n",
      "\u001b[36mFile \u001b[39m\u001b[32m/Library/Frameworks/Python.framework/Versions/3.11/lib/python3.11/urllib/request.py:749\u001b[39m, in \u001b[36mHTTPRedirectHandler.http_error_302\u001b[39m\u001b[34m(self, req, fp, code, msg, headers)\u001b[39m\n\u001b[32m    746\u001b[39m fp.read()\n\u001b[32m    747\u001b[39m fp.close()\n\u001b[32m--> \u001b[39m\u001b[32m749\u001b[39m \u001b[38;5;28;01mreturn\u001b[39;00m \u001b[38;5;28;43mself\u001b[39;49m\u001b[43m.\u001b[49m\u001b[43mparent\u001b[49m\u001b[43m.\u001b[49m\u001b[43mopen\u001b[49m\u001b[43m(\u001b[49m\u001b[43mnew\u001b[49m\u001b[43m,\u001b[49m\u001b[43m \u001b[49m\u001b[43mtimeout\u001b[49m\u001b[43m=\u001b[49m\u001b[43mreq\u001b[49m\u001b[43m.\u001b[49m\u001b[43mtimeout\u001b[49m\u001b[43m)\u001b[49m\n",
      "\u001b[36mFile \u001b[39m\u001b[32m/Library/Frameworks/Python.framework/Versions/3.11/lib/python3.11/urllib/request.py:519\u001b[39m, in \u001b[36mOpenerDirector.open\u001b[39m\u001b[34m(self, fullurl, data, timeout)\u001b[39m\n\u001b[32m    516\u001b[39m     req = meth(req)\n\u001b[32m    518\u001b[39m sys.audit(\u001b[33m'\u001b[39m\u001b[33murllib.Request\u001b[39m\u001b[33m'\u001b[39m, req.full_url, req.data, req.headers, req.get_method())\n\u001b[32m--> \u001b[39m\u001b[32m519\u001b[39m response = \u001b[38;5;28;43mself\u001b[39;49m\u001b[43m.\u001b[49m\u001b[43m_open\u001b[49m\u001b[43m(\u001b[49m\u001b[43mreq\u001b[49m\u001b[43m,\u001b[49m\u001b[43m \u001b[49m\u001b[43mdata\u001b[49m\u001b[43m)\u001b[49m\n\u001b[32m    521\u001b[39m \u001b[38;5;66;03m# post-process response\u001b[39;00m\n\u001b[32m    522\u001b[39m meth_name = protocol+\u001b[33m\"\u001b[39m\u001b[33m_response\u001b[39m\u001b[33m\"\u001b[39m\n",
      "\u001b[36mFile \u001b[39m\u001b[32m/Library/Frameworks/Python.framework/Versions/3.11/lib/python3.11/urllib/request.py:536\u001b[39m, in \u001b[36mOpenerDirector._open\u001b[39m\u001b[34m(self, req, data)\u001b[39m\n\u001b[32m    533\u001b[39m     \u001b[38;5;28;01mreturn\u001b[39;00m result\n\u001b[32m    535\u001b[39m protocol = req.type\n\u001b[32m--> \u001b[39m\u001b[32m536\u001b[39m result = \u001b[38;5;28;43mself\u001b[39;49m\u001b[43m.\u001b[49m\u001b[43m_call_chain\u001b[49m\u001b[43m(\u001b[49m\u001b[38;5;28;43mself\u001b[39;49m\u001b[43m.\u001b[49m\u001b[43mhandle_open\u001b[49m\u001b[43m,\u001b[49m\u001b[43m \u001b[49m\u001b[43mprotocol\u001b[49m\u001b[43m,\u001b[49m\u001b[43m \u001b[49m\u001b[43mprotocol\u001b[49m\u001b[43m \u001b[49m\u001b[43m+\u001b[49m\n\u001b[32m    537\u001b[39m \u001b[43m                          \u001b[49m\u001b[33;43m'\u001b[39;49m\u001b[33;43m_open\u001b[39;49m\u001b[33;43m'\u001b[39;49m\u001b[43m,\u001b[49m\u001b[43m \u001b[49m\u001b[43mreq\u001b[49m\u001b[43m)\u001b[49m\n\u001b[32m    538\u001b[39m \u001b[38;5;28;01mif\u001b[39;00m result:\n\u001b[32m    539\u001b[39m     \u001b[38;5;28;01mreturn\u001b[39;00m result\n",
      "\u001b[36mFile \u001b[39m\u001b[32m/Library/Frameworks/Python.framework/Versions/3.11/lib/python3.11/urllib/request.py:496\u001b[39m, in \u001b[36mOpenerDirector._call_chain\u001b[39m\u001b[34m(self, chain, kind, meth_name, *args)\u001b[39m\n\u001b[32m    494\u001b[39m \u001b[38;5;28;01mfor\u001b[39;00m handler \u001b[38;5;129;01min\u001b[39;00m handlers:\n\u001b[32m    495\u001b[39m     func = \u001b[38;5;28mgetattr\u001b[39m(handler, meth_name)\n\u001b[32m--> \u001b[39m\u001b[32m496\u001b[39m     result = \u001b[43mfunc\u001b[49m\u001b[43m(\u001b[49m\u001b[43m*\u001b[49m\u001b[43margs\u001b[49m\u001b[43m)\u001b[49m\n\u001b[32m    497\u001b[39m     \u001b[38;5;28;01mif\u001b[39;00m result \u001b[38;5;129;01mis\u001b[39;00m \u001b[38;5;129;01mnot\u001b[39;00m \u001b[38;5;28;01mNone\u001b[39;00m:\n\u001b[32m    498\u001b[39m         \u001b[38;5;28;01mreturn\u001b[39;00m result\n",
      "\u001b[36mFile \u001b[39m\u001b[32m/Library/Frameworks/Python.framework/Versions/3.11/lib/python3.11/urllib/request.py:1391\u001b[39m, in \u001b[36mHTTPSHandler.https_open\u001b[39m\u001b[34m(self, req)\u001b[39m\n\u001b[32m   1390\u001b[39m \u001b[38;5;28;01mdef\u001b[39;00m\u001b[38;5;250m \u001b[39m\u001b[34mhttps_open\u001b[39m(\u001b[38;5;28mself\u001b[39m, req):\n\u001b[32m-> \u001b[39m\u001b[32m1391\u001b[39m     \u001b[38;5;28;01mreturn\u001b[39;00m \u001b[38;5;28;43mself\u001b[39;49m\u001b[43m.\u001b[49m\u001b[43mdo_open\u001b[49m\u001b[43m(\u001b[49m\u001b[43mhttp\u001b[49m\u001b[43m.\u001b[49m\u001b[43mclient\u001b[49m\u001b[43m.\u001b[49m\u001b[43mHTTPSConnection\u001b[49m\u001b[43m,\u001b[49m\u001b[43m \u001b[49m\u001b[43mreq\u001b[49m\u001b[43m,\u001b[49m\n\u001b[32m   1392\u001b[39m \u001b[43m        \u001b[49m\u001b[43mcontext\u001b[49m\u001b[43m=\u001b[49m\u001b[38;5;28;43mself\u001b[39;49m\u001b[43m.\u001b[49m\u001b[43m_context\u001b[49m\u001b[43m,\u001b[49m\u001b[43m \u001b[49m\u001b[43mcheck_hostname\u001b[49m\u001b[43m=\u001b[49m\u001b[38;5;28;43mself\u001b[39;49m\u001b[43m.\u001b[49m\u001b[43m_check_hostname\u001b[49m\u001b[43m)\u001b[49m\n",
      "\u001b[36mFile \u001b[39m\u001b[32m/Library/Frameworks/Python.framework/Versions/3.11/lib/python3.11/urllib/request.py:1351\u001b[39m, in \u001b[36mAbstractHTTPHandler.do_open\u001b[39m\u001b[34m(self, http_class, req, **http_conn_args)\u001b[39m\n\u001b[32m   1348\u001b[39m         h.request(req.get_method(), req.selector, req.data, headers,\n\u001b[32m   1349\u001b[39m                   encode_chunked=req.has_header(\u001b[33m'\u001b[39m\u001b[33mTransfer-encoding\u001b[39m\u001b[33m'\u001b[39m))\n\u001b[32m   1350\u001b[39m     \u001b[38;5;28;01mexcept\u001b[39;00m \u001b[38;5;167;01mOSError\u001b[39;00m \u001b[38;5;28;01mas\u001b[39;00m err: \u001b[38;5;66;03m# timeout error\u001b[39;00m\n\u001b[32m-> \u001b[39m\u001b[32m1351\u001b[39m         \u001b[38;5;28;01mraise\u001b[39;00m URLError(err)\n\u001b[32m   1352\u001b[39m     r = h.getresponse()\n\u001b[32m   1353\u001b[39m \u001b[38;5;28;01mexcept\u001b[39;00m:\n",
      "\u001b[31mURLError\u001b[39m: <urlopen error [SSL: CERTIFICATE_VERIFY_FAILED] certificate verify failed: unable to get local issuer certificate (_ssl.c:1006)>"
     ]
    }
   ],
   "source": [
    "# IMPORTANT: to run this script, you need to enable Internet in Kaggle. Default Kaggle kernels do not have Internet access\n",
    "# Enabling Internet is on the right side of the Settings menu. \n",
    "# If you run this Jupyter Notebook on your own computer, then make sure your computer has Internet access\n",
    "\n",
    "from urllib.request import urlopen\n",
    "import random\n",
    "import time\n",
    "\n",
    "Set10 = set()\n",
    "Set1000 = set()\n",
    "SetTotal = set()\n",
    "file_url = \"http://www.nasdaqtrader.com/dynamic/symdir/nasdaqlisted.txt\"        \n",
    "\n",
    "# Put IO functions in try -- finally\n",
    "print('Reading text file from url ... ', end = ' ')\n",
    "file = urlopen(file_url)\n",
    "\n",
    "# Create three dictionaries of different lengths\n",
    "count = 0\n",
    "for line in file:\n",
    "    decoded_line = line.decode(\"utf-8\")\n",
    "    count += 1\n",
    "    ticker, info = decoded_line.split('|',1)\n",
    "    if count<=10:\n",
    "        Set10.add(ticker) \n",
    "    if count<=1000:\n",
    "        Set1000.add(ticker)\n",
    "    SetTotal.add(ticker)\n",
    "\n",
    "print('done')\n",
    "\n",
    "# Create 1M queries to time the performance of three dictionaries\n",
    "print('Generating 1M random tickers ... ', end = ' ')\n",
    "trial_total = 1000000\n",
    "TICKER_LETTER = 'ABCDEFGHIJKLMNOPQRSTUVWXYZ'\n",
    "search_list = []\n",
    "for index in range(trial_total):\n",
    "    new_random_ticker = ''\n",
    "    for letter_index in range(random.randint(1,5)):\n",
    "        new_random_ticker = new_random_ticker + (random.choice(TICKER_LETTER))\n",
    "\n",
    "    search_list.append(new_random_ticker)\n",
    "print('done')\n",
    "\n",
    "# Test speed for query Dictionary10\n",
    "begin_time = time.time()\n",
    "for index in range(trial_total):\n",
    "    query_result = search_list[index] in Set10\n",
    "elapsed_time = time.time() - begin_time\n",
    "print(\"Searching a size-{0} set 1M times takes: {1}s\".format(len(Set10),\n",
    "    elapsed_time))\n",
    "\n",
    "# Test speed for query Dictionary1000\n",
    "begin_time = time.time()\n",
    "for index in range(trial_total):\n",
    "    query_result = search_list[index] in Set1000\n",
    "elapsed_time = time.time() - begin_time\n",
    "print(\"Searching a size-{0} set 1M times takes: {1}s\".format(len(Set1000),\n",
    "    elapsed_time))\n",
    "\n",
    "# Test speed for query DictionaryTotal\n",
    "begin_time = time.time()\n",
    "for index in range(trial_total):\n",
    "    query_result = search_list[index] in SetTotal\n",
    "elapsed_time = time.time() - begin_time\n",
    "print(\"Searching a size-{0} dictionary 1M times takes: {1}s\".format(len(SetTotal),\n",
    "    elapsed_time))"
   ]
  },
  {
   "cell_type": "markdown",
   "metadata": {},
   "source": [
    "We see in the above sample code that searching set elements costs close to constant time regardless whether the size of the set is 10 or 1000 or 4023. In order to support hash search, valid elements in a set must be **hashable**. Next, we discuss this concept"
   ]
  },
  {
   "cell_type": "code",
   "execution_count": 5,
   "metadata": {
    "execution": {
     "iopub.execute_input": "2021-06-28T02:59:19.882424Z",
     "iopub.status.busy": "2021-06-28T02:59:19.882132Z",
     "iopub.status.idle": "2021-06-28T02:59:19.898851Z",
     "shell.execute_reply": "2021-06-28T02:59:19.897093Z",
     "shell.execute_reply.started": "2021-06-28T02:59:19.882397Z"
    },
    "trusted": true
   },
   "outputs": [
    {
     "name": "stdout",
     "output_type": "stream",
     "text": [
      "5\n",
      "7759045608287207603\n",
      "7314375431298445100\n"
     ]
    },
    {
     "ename": "TypeError",
     "evalue": "'NoneType' object is not callable",
     "output_type": "error",
     "traceback": [
      "\u001b[31m---------------------------------------------------------------------------\u001b[39m",
      "\u001b[31mTypeError\u001b[39m                                 Traceback (most recent call last)",
      "\u001b[36mCell\u001b[39m\u001b[36m \u001b[39m\u001b[32mIn[5]\u001b[39m\u001b[32m, line 7\u001b[39m\n\u001b[32m      3\u001b[39m s = \u001b[33m\"\u001b[39m\u001b[33mHello World!\u001b[39m\u001b[33m\"\u001b[39m; \u001b[38;5;28mprint\u001b[39m(s.\u001b[34m__hash__\u001b[39m())\n\u001b[32m      5\u001b[39m t = (i, s); \u001b[38;5;28mprint\u001b[39m(t.\u001b[34m__hash__\u001b[39m())\n\u001b[32m----> \u001b[39m\u001b[32m7\u001b[39m Set = {s}; \u001b[38;5;28mprint\u001b[39m(Set.\u001b[34m__hash__\u001b[39m())\n",
      "\u001b[31mTypeError\u001b[39m: 'NoneType' object is not callable"
     ]
    }
   ],
   "source": [
    "i = 5; print(i.__hash__())\n",
    "\n",
    "s = \"Hello World!\"; print(s.__hash__())\n",
    "\n",
    "t = (i, s); print(t.__hash__())\n",
    "\n",
    "Set = {s}; print(Set.__hash__())"
   ]
  },
  {
   "cell_type": "markdown",
   "metadata": {},
   "source": [
    "The above sample code returns three integer numbers and one runtime error. Let us take a closer look. \n",
    "\n",
    "In Python, if a variable type is hashable, there will be a built-in method called *__hash__()*. One can treat the hash function return as a hashtag that uniquely represent the content of the variable in the memory. The hash search will use the hash function as *the Table of Contents* in a real-world dictionary to quickly determine if a complex element value is in a dictionary or a set:\n",
    "    * If the hash values of all set elements are not equal to the hash value of a query, then it is guaranteed that the query is *not* in the set;\n",
    "    * If the hash value of a query is equal to one of the existing hash values, then the search algorithm only needs to compare with those that have the same hash value.\n",
    "    \n",
    "In other words, a hash function is a many-to-one mapping.\n",
    "\n",
    "To achieve this goal, a variable will calculate its hash value at the inception of its values. As a result, Python does not allow a hashable variable to change its content after its creation. This is equivalent to putting contents in a dictionary: After the Table of Contents is created, the content itself is not allowed to change. Otherwise, the reference from the Table of Contents does not faithfully represent the content. \n",
    "\n",
    "**Consequently, we say that a set does not have a hash value because it is a mutable variable type. Furthermore, its elements must be immutable so that each of its elements has a hash value to facilitate fast search of the set elements.**\n",
    "\n",
    "Let us see another example below:"
   ]
  },
  {
   "cell_type": "code",
   "execution_count": null,
   "metadata": {
    "trusted": true
   },
   "outputs": [],
   "source": [
    "Set = {[1, 2]}  # This assignment will return an error because adding a list (mutable) as a set element is not permitted"
   ]
  },
  {
   "cell_type": "markdown",
   "metadata": {},
   "source": [
    "Hash function creates a Table of Contents to capture a snapshot of potentially complex data content. Examples include a typical library's call number system, and storing user passwords in modern operating systems. Next, let us create a very simple hash function called division hashing:"
   ]
  },
  {
   "cell_type": "code",
   "execution_count": null,
   "metadata": {
    "execution": {
     "iopub.execute_input": "2021-06-28T06:09:13.297562Z",
     "iopub.status.busy": "2021-06-28T06:09:13.297147Z",
     "iopub.status.idle": "2021-06-28T06:09:13.308548Z",
     "shell.execute_reply": "2021-06-28T06:09:13.307633Z",
     "shell.execute_reply.started": "2021-06-28T06:09:13.297527Z"
    },
    "trusted": true
   },
   "outputs": [
    {
     "name": "stdout",
     "output_type": "stream",
     "text": [
      "20 65 98 79\n",
      "85 88 67 42\n"
     ]
    }
   ],
   "source": [
    "quotes = ['We can know only that we know nothing. And that is the highest degree of human wisdom.',\\\n",
    "        'Nothing is so necessary for a young man as the company of intelligent women.',\\\n",
    "        'The strongest of all warriors are these two — Time and Patience.',\\\n",
    "        'There is no greatness where there is not simplicity, goodness, and truth.'\n",
    "        ]\n",
    "\n",
    "def division_hashing(text):\n",
    "    global hash_prime_number\n",
    "    hash_prime_number = 101 # increase prime number increases the possibilities\n",
    "\n",
    "    sum = 0\n",
    "    for c in text:\n",
    "        sum = sum*256 + ord(c)  # Change a character to its ASCII value\n",
    "\n",
    "    return sum % hash_prime_number\n",
    "\n",
    "print(division_hashing(quotes[0]), division_hashing(quotes[1]), division_hashing(quotes[2]),\n",
    "    division_hashing(quotes[3]))\n",
    "\n",
    "# Altered text with high probability leads to different hash value\n",
    "print(division_hashing(quotes[0][1:]), division_hashing(quotes[1][1:]), division_hashing(quotes[2][1:]),\n",
    "    division_hashing(quotes[3][1:])) "
   ]
  },
  {
   "cell_type": "markdown",
   "metadata": {},
   "source": [
    "In the above sample code, we see hashing can be conveniently used to verify the integrity of the data. For the four quotes, we use *division_hashing()* function to obtain a hash value for each quote. If some of the text is altered in the quotes (for example, due to transmission error or due to malicious attack), a user can be alerted that with high probability, their corresponding hash values are also different."
   ]
  },
  {
   "cell_type": "markdown",
   "metadata": {},
   "source": [
    "Finally, various Python implementations often come with a library of supported built-in hash functions, called hashlib. One can call *hashlib.algorithms_guaranteed* to display a list of supported methods in different systems."
   ]
  },
  {
   "cell_type": "code",
   "execution_count": 7,
   "metadata": {
    "execution": {
     "iopub.execute_input": "2021-06-28T06:15:17.130626Z",
     "iopub.status.busy": "2021-06-28T06:15:17.130298Z",
     "iopub.status.idle": "2021-06-28T06:15:17.140028Z",
     "shell.execute_reply": "2021-06-28T06:15:17.139131Z",
     "shell.execute_reply.started": "2021-06-28T06:15:17.130597Z"
    },
    "trusted": true
   },
   "outputs": [
    {
     "name": "stdout",
     "output_type": "stream",
     "text": [
      "{'sha224', 'sha3_384', 'sha3_512', 'shake_128', 'sha384', 'blake2b', 'md5', 'sha3_224', 'sha256', 'sha1', 'shake_256', 'sha3_256', 'blake2s', 'sha512'}\n",
      "e0da48d356c6e6a3fd817b6f1d0a103e\n",
      "<class 'bytes'> <class 'str'>\n",
      "e0da48d356c6e6a3fd817b6f1d0a103e\n"
     ]
    }
   ],
   "source": [
    "import hashlib\n",
    "print(hashlib.algorithms_guaranteed)\n",
    "\n",
    "hash_md5 = hashlib.md5()\n",
    "text = b'We can know only that we know nothing.'\n",
    "hash_md5.update(text)\n",
    "print(hash_md5.hexdigest())\n",
    "\n",
    "hash_md5 = hashlib.md5()\n",
    "print(type('W'.encode('utf-8')), type('W'))\n",
    "for b in text:\n",
    "    hash_md5.update(chr(b).encode('utf-8'))\n",
    "    \n",
    "print(hash_md5.hexdigest())\n"
   ]
  },
  {
   "cell_type": "markdown",
   "metadata": {},
   "source": [
    "We can see from the above sample code, that we can select any of the supported algorithms in Python to create a hash function object. In the example, we choose MD5 algorithm. The algorithm uses the built-in method *update()* to calculate the hash value of a text string. The function can be called to process the entire text as a whole, or iteratively letter by letter as demonstrated in the *for* loop. The hex digest of the hash values are identical from two approaches.\n",
    "\n",
    "Finally, we note that the hash functions in hashlib receive encoding content only as byte streams. A byte stream provides the underlying data of the variable stored in the memory regardless of its type. The conversion from a string type to a byte type is by either adding a letter *b* prefix in front of the text, or calling a built-in function *encode('utf-8')*."
   ]
  },
  {
   "cell_type": "markdown",
   "metadata": {},
   "source": [
    "# Exercises"
   ]
  },
  {
   "cell_type": "markdown",
   "metadata": {
    "execution": {
     "iopub.execute_input": "2021-05-28T12:53:16.599147Z",
     "iopub.status.busy": "2021-05-28T12:53:16.598801Z",
     "iopub.status.idle": "2021-05-28T12:53:16.614194Z",
     "shell.execute_reply": "2021-05-28T12:53:16.612537Z",
     "shell.execute_reply.started": "2021-05-28T12:53:16.59912Z"
    },
    "trusted": true
   },
   "source": [
    "## Exercise 1\n",
    "Given a dictionary input, please code a function that extracts all its key elements into a set variable as the return value of the function."
   ]
  },
  {
   "cell_type": "code",
   "execution_count": 8,
   "metadata": {},
   "outputs": [
    {
     "name": "stdout",
     "output_type": "stream",
     "text": [
      "{1, 2, 3}\n"
     ]
    }
   ],
   "source": [
    "def set_from_dict(a_dict):\n",
    "    all_keys = set(a_dict.keys())\n",
    "    return all_keys\n",
    "my_dict = {1:\"w\", 2:\"2\", 3:\"four\"}\n",
    "print(set_from_dict(my_dict))"
   ]
  },
  {
   "cell_type": "markdown",
   "metadata": {},
   "source": [
    "## Exercise 2\n",
    "Implement your own version of the set function *issuperset(set_1, set_2)*, which takes in two set input arguments and output True if the first argument is a superset of the second argument."
   ]
  },
  {
   "cell_type": "code",
   "execution_count": 16,
   "metadata": {},
   "outputs": [
    {
     "name": "stdout",
     "output_type": "stream",
     "text": [
      "True\n"
     ]
    }
   ],
   "source": [
    "def issuperset(set_1, set_2):\n",
    "    if set_1.intersection(set_2) == set_2:\n",
    "        return True\n",
    "    else: \n",
    "        return False\n",
    "set1 = {1,2,3,4,5}\n",
    "set2 = {3,4,5}\n",
    "print(issuperset(set1, set2))"
   ]
  },
  {
   "cell_type": "markdown",
   "metadata": {},
   "source": [
    "## Exercise 3\n",
    "Implement your own version of the set function *XOR(set_1, set_2)*, which takes in two set input arguments and output their symmetric difference."
   ]
  },
  {
   "cell_type": "code",
   "execution_count": 18,
   "metadata": {},
   "outputs": [
    {
     "name": "stdout",
     "output_type": "stream",
     "text": [
      "{1, 2, 6, 7}\n"
     ]
    }
   ],
   "source": [
    "def XOR(set_1, set_2):\n",
    "    intersection = set_1.intersection(set_2)\n",
    "    diff1 = set_1.difference(intersection)\n",
    "    diff2 = set_2.difference(intersection)\n",
    "    return diff1.union(diff2)\n",
    "set1 = {1,2,3,4,5}\n",
    "set2 = {3,4,5,6,7}\n",
    "print(XOR(set1, set2))"
   ]
  },
  {
   "cell_type": "markdown",
   "metadata": {},
   "source": [
    "## Exercise 4\n",
    "Let a quote string equal to 'We can know only that we know nothing. And that is the highest degree of human wisdom.' Then use the above division_hashing() function to find a substring from the quote string that has the same hash value. Note, if hash_prime_number = 101 as set in the code above, the hash value of the full quote string should be 20."
   ]
  },
  {
   "cell_type": "code",
   "execution_count": 25,
   "metadata": {},
   "outputs": [
    {
     "name": "stdout",
     "output_type": "stream",
     "text": [
      "We can know o\n",
      "20\n",
      "20\n",
      "We can know only\n",
      "20\n",
      "20\n",
      "We can know only that we know n\n",
      "20\n",
      "20\n",
      "We can know only that we know nothing. And t\n",
      "20\n",
      "20\n",
      "We can know only that we know nothing. And that is\n",
      "20\n",
      "20\n",
      "We can know only that we know nothing. And that is t\n",
      "20\n",
      "20\n",
      "We can know only that we know nothing. And that is the \n",
      "20\n",
      "20\n",
      "We can know only that we know nothing. And that is the \n",
      "20\n",
      "20\n",
      "We can know only that we know nothing. And that is the \n",
      "20\n",
      "20\n",
      "We can know only that we know nothing. And that is the \n",
      "20\n",
      "20\n",
      "We can know only that we know nothing. And that is the h\n",
      "20\n",
      "20\n",
      "We can know only that we know nothing. And that is the h\n",
      "20\n",
      "20\n",
      "We can know only that we know nothing. And that is the h\n",
      "20\n",
      "20\n",
      "We can know only that we know nothing. And that is the hi\n",
      "20\n",
      "20\n",
      "We can know only that we know nothing. And that is the hi\n",
      "20\n",
      "20\n",
      "We can know only that we know nothing. And that is the high\n",
      "20\n",
      "20\n",
      "We can know only that we know nothing. And that is the high\n",
      "20\n",
      "20\n",
      "We can know only that we know nothing. And that is the high\n",
      "20\n",
      "20\n",
      "We can know only that we know nothing. And that is the high\n",
      "20\n",
      "20\n",
      "We can know only that we know nothing. And that is the highe\n",
      "20\n",
      "20\n",
      "We can know only that we know nothing. And that is the highe\n",
      "20\n",
      "20\n",
      "We can know only that we know nothing. And that is the highest\n",
      "20\n",
      "20\n",
      "We can know only that we know nothing. And that is the highest deg\n",
      "20\n",
      "20\n",
      "We can know only that we know nothing. And that is the highest degr\n",
      "20\n",
      "20\n",
      "We can know only that we know nothing. And that is the highest degr\n",
      "20\n",
      "20\n",
      "We can know only that we know nothing. And that is the highest degr\n",
      "20\n",
      "20\n",
      "We can know only that we know nothing. And that is the highest degre\n",
      "20\n",
      "20\n",
      "We can know only that we know nothing. And that is the highest degree o\n",
      "20\n",
      "20\n",
      "We can know only that we know nothing. And that is the highest degree of \n",
      "20\n",
      "20\n",
      "We can know only that we know nothing. And that is the highest degree of huma\n",
      "20\n",
      "20\n",
      "We can know only that we know nothing. And that is the highest degree of human\n",
      "20\n",
      "20\n",
      "We can know only that we know nothing. And that is the highest degree of human \n",
      "20\n",
      "20\n",
      "We can know only that we know nothing. And that is the highest degree of human w\n",
      "20\n",
      "20\n",
      "We can know only that we know nothing. And that is the highest degree of human w\n",
      "20\n",
      "20\n",
      "We can know only that we know nothing. And that is the highest degree of human w\n",
      "20\n",
      "20\n",
      "We can know only that we know nothing. And that is the highest degree of human wisdo\n",
      "20\n",
      "20\n"
     ]
    }
   ],
   "source": [
    "quote = 'We can know only that we know nothing. And that is the highest degree of human wisdom.'\n",
    "def division_hashing(text):\n",
    "    global hash_prime_number\n",
    "    hash_prime_number = 101 # increase prime number increases the possibilities\n",
    "\n",
    "    sum = 0\n",
    "    for c in text:\n",
    "        sum = sum*256 + ord(c)  # Change a character to its ASCII value\n",
    "\n",
    "    return sum % hash_prime_number\n",
    "# need to check if the beginn\n",
    "for i in range(len(quote)):\n",
    "    for j in range(i):\n",
    "        if division_hashing(quote[j:i]) == division_hashing(quote):\n",
    "            print(quote[0:i])\n",
    "            print(division_hashing(quote[j:i]))\n",
    "            print(division_hashing(quote))\n"
   ]
  },
  {
   "cell_type": "markdown",
   "metadata": {},
   "source": [
    "## Exercise 5\n",
    "Debug:"
   ]
  },
  {
   "cell_type": "code",
   "execution_count": 19,
   "metadata": {},
   "outputs": [
    {
     "name": "stdout",
     "output_type": "stream",
     "text": [
      "-6254020535205959903\n"
     ]
    },
    {
     "ename": "TypeError",
     "evalue": "'NoneType' object is not callable",
     "output_type": "error",
     "traceback": [
      "\u001b[31m---------------------------------------------------------------------------\u001b[39m",
      "\u001b[31mTypeError\u001b[39m                                 Traceback (most recent call last)",
      "\u001b[36mCell\u001b[39m\u001b[36m \u001b[39m\u001b[32mIn[19]\u001b[39m\u001b[32m, line 3\u001b[39m\n\u001b[32m      1\u001b[39m animals = [\u001b[33m'\u001b[39m\u001b[33mcat\u001b[39m\u001b[33m'\u001b[39m, \u001b[33m'\u001b[39m\u001b[33mdog\u001b[39m\u001b[33m'\u001b[39m, \u001b[33m'\u001b[39m\u001b[33mhorse\u001b[39m\u001b[33m'\u001b[39m, \u001b[33m'\u001b[39m\u001b[33mcow\u001b[39m\u001b[33m'\u001b[39m]\n\u001b[32m      2\u001b[39m \u001b[38;5;28mprint\u001b[39m(animals[\u001b[32m0\u001b[39m].\u001b[34m__hash__\u001b[39m())\n\u001b[32m----> \u001b[39m\u001b[32m3\u001b[39m \u001b[38;5;28mprint\u001b[39m(\u001b[43manimals\u001b[49m\u001b[43m.\u001b[49m\u001b[34;43m__hash__\u001b[39;49m\u001b[43m(\u001b[49m\u001b[43m)\u001b[49m)\n",
      "\u001b[31mTypeError\u001b[39m: 'NoneType' object is not callable"
     ]
    }
   ],
   "source": [
    "animals = ['cat', 'dog', 'horse', 'cow']\n",
    "print(animals[0].__hash__())\n",
    "print(animals.__hash__())"
   ]
  },
  {
   "cell_type": "code",
   "execution_count": 26,
   "metadata": {},
   "outputs": [
    {
     "name": "stdout",
     "output_type": "stream",
     "text": [
      "-6254020535205959903\n",
      "-6879017488282348492\n"
     ]
    }
   ],
   "source": [
    "animals = ['cat', 'dog', 'horse', 'cow']\n",
    "print(animals[0].__hash__())\n",
    "print(tuple(animals).__hash__()) # the .__hash__() function needs to be called by an immutable type"
   ]
  },
  {
   "cell_type": "markdown",
   "metadata": {},
   "source": [
    "# Challenges"
   ]
  },
  {
   "cell_type": "markdown",
   "metadata": {},
   "source": [
    "## Challenge 1\n",
    "In calculating the hash value of an integer shown below, we can notice that in many Python implementations, its hash value is exactly equal to the integer value. This is purposely designed to prevent assigning duplicate copies of small integer values in memory. In other words, for small integer values, each integer value is reserved to have only one copy and one memory address.\n",
    "\n",
    "> i = 5; print(i.\\_\\_hash\\_\\_())\n",
    "\n",
    "Write a program to test in your Python environment, what is the smallest integer value where the integer value and its hash value differ. Hint: This value will need to be very large, due to the fact that Python 3 supports storing integers of arbitrary large value but a hash function value cannot be arbitrarily large. As a result, if your strategy is to increase the i value in a loop, it will be wise to adaptively change the step size such that the loop does not have to enumerate all the integers before the smallest integer value that satsifies the condition is found."
   ]
  },
  {
   "cell_type": "code",
   "execution_count": null,
   "metadata": {},
   "outputs": [],
   "source": []
  },
  {
   "cell_type": "markdown",
   "metadata": {},
   "source": [
    "## Challenge 2\n",
    "Assume a transaction string is \"Satoshi sends 50 BTC to Hal\". Then use SHA256 hash algorithm to hash the string plus 4 consecutive random bytes called nounce, namely, string + nounce_1 + nounce_2 + nounce_3 + nounce_4.\n",
    "\n",
    "The process should continue trying the combinations of the string plus 4 consecutive random bytes until the hexdigest() result has one leading \"0\" in the hash string. Then change the requirement for the number of leading \"0\"s to two digits and three digits, and observe the change in time complexity in finding one combination.\n",
    "\n",
    "(Hint: 1. Generating one random byte can be done by random.randint(0,255); 2. Adding the string and four bytes into the hash value can be done by using the update() function first on the string and then consecutively on the four randomly generated bytes)"
   ]
  },
  {
   "cell_type": "code",
   "execution_count": null,
   "metadata": {},
   "outputs": [],
   "source": []
  }
 ],
 "metadata": {
  "kernelspec": {
   "display_name": ".venv",
   "language": "python",
   "name": "python3"
  },
  "language_info": {
   "codemirror_mode": {
    "name": "ipython",
    "version": 3
   },
   "file_extension": ".py",
   "mimetype": "text/x-python",
   "name": "python",
   "nbconvert_exporter": "python",
   "pygments_lexer": "ipython3",
   "version": "3.11.9"
  }
 },
 "nbformat": 4,
 "nbformat_minor": 4
}
